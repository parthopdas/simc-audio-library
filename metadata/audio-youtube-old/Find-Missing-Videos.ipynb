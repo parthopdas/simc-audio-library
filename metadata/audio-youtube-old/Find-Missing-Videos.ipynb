{
 "cells": [
  {
   "cell_type": "code",
   "execution_count": 137,
   "metadata": {},
   "outputs": [],
   "source": [
    "import json\n",
    "import pandas as pd\n",
    "from collections import defaultdict\n",
    "from glob import glob\n",
    "from os import path\n",
    "from datetime import datetime"
   ]
  },
  {
   "cell_type": "code",
   "execution_count": 122,
   "metadata": {},
   "outputs": [],
   "source": [
    "FILES_DIR = '/home/skussl/Downloads/bond-files/' # directory with ogg files from archive (files from Bond)"
   ]
  },
  {
   "cell_type": "code",
   "execution_count": 123,
   "metadata": {},
   "outputs": [],
   "source": [
    "files = [path.basename(x) for x in glob(path.join(FILES_DIR, 'files/*'))]"
   ]
  },
  {
   "cell_type": "code",
   "execution_count": 124,
   "metadata": {},
   "outputs": [],
   "source": [
    "with open('../youtube-api/videos_list_yutt.json') as f:\n",
    "    videos_list_yutt = json.loads(f.read())"
   ]
  },
  {
   "cell_type": "code",
   "execution_count": 133,
   "metadata": {},
   "outputs": [],
   "source": [
    "found = set()\n",
    "canditates = defaultdict(list)\n",
    "\n",
    "for file in files:\n",
    "    dt_file = datetime.strptime(file[:8], \"%Y%m%d\")\n",
    "    name = file[9:-4]\n",
    "\n",
    "    for video in videos_list_yutt:\n",
    "        dt = datetime.strptime(video['snippet']['publishedAt'][:10], \"%Y-%m-%d\")\n",
    "        \n",
    "        dt_diff = (dt_file - dt).days\n",
    "        \n",
    "        if abs(dt_diff) > 1:\n",
    "            continue\n",
    "            \n",
    "        canditates[file].append(video)\n",
    "        \n",
    "        if video['snippet']['title'].replace('?', '') in [name, name.replace(' -', ':', 1).replace('_', ' ')]:\n",
    "            found.add(file)\n",
    "            \n",
    "            if file in canditates:\n",
    "                del canditates[file]\n",
    "            \n",
    "            break"
   ]
  },
  {
   "cell_type": "code",
   "execution_count": 139,
   "metadata": {},
   "outputs": [],
   "source": [
    "not_found = set(files) - found\n",
    "not_found = sorted(not_found)[::-1]"
   ]
  },
  {
   "cell_type": "code",
   "execution_count": 140,
   "metadata": {},
   "outputs": [
    {
     "data": {
      "text/plain": [
       "108"
      ]
     },
     "execution_count": 140,
     "metadata": {},
     "output_type": "execute_result"
    }
   ],
   "source": [
    "len(not_found)"
   ]
  },
  {
   "cell_type": "code",
   "execution_count": 142,
   "metadata": {},
   "outputs": [],
   "source": [
    "with open('files_not_found.json', 'w') as f:\n",
    "    f.write(json.dumps(not_found))"
   ]
  },
  {
   "cell_type": "code",
   "execution_count": 143,
   "metadata": {},
   "outputs": [],
   "source": [
    "canditate_list = []\n",
    "\n",
    "for file in not_found:\n",
    "    if not file in canditates:\n",
    "        canditate_list.append({\n",
    "            'filename': file\n",
    "        })\n",
    "    else:\n",
    "        for video in canditates[file]:\n",
    "            canditate_list.append({\n",
    "                'filename': file,\n",
    "                'candidateTitle': video['snippet']['title'],\n",
    "                'candidateLink': 'https://youtu.be/' + video['id']\n",
    "            })"
   ]
  },
  {
   "cell_type": "code",
   "execution_count": 145,
   "metadata": {},
   "outputs": [],
   "source": [
    "df = pd.DataFrame(canditate_list)"
   ]
  },
  {
   "cell_type": "code",
   "execution_count": 147,
   "metadata": {},
   "outputs": [],
   "source": [
    "df.to_excel('not_found_candidates.xlsx')"
   ]
  }
 ],
 "metadata": {
  "kernelspec": {
   "display_name": "Python 3",
   "language": "python",
   "name": "python3"
  },
  "language_info": {
   "codemirror_mode": {
    "name": "ipython",
    "version": 3
   },
   "file_extension": ".py",
   "mimetype": "text/x-python",
   "name": "python",
   "nbconvert_exporter": "python",
   "pygments_lexer": "ipython3",
   "version": "3.7.7"
  }
 },
 "nbformat": 4,
 "nbformat_minor": 2
}
