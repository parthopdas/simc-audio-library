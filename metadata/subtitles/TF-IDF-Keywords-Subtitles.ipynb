{
 "cells": [
  {
   "cell_type": "code",
   "execution_count": 9,
   "metadata": {},
   "outputs": [],
   "source": [
    "import nltk\n",
    "import string\n",
    "import os\n",
    "import re\n",
    "import webvtt\n",
    "import numpy as np\n",
    "import pandas as pd\n",
    "from glob import glob\n",
    "from sklearn.feature_extraction.text import TfidfVectorizer"
   ]
  },
  {
   "cell_type": "code",
   "execution_count": 10,
   "metadata": {},
   "outputs": [],
   "source": [
    "# ref: https://shkspr.mobi/blog/2018/09/convert-webvtt-to-a-transcript-using-python/\n",
    "# youtube-dl --write-auto-sub --sub-format vtt --skip-download https://www.youtube.com/user/yuttadhammo\n",
    "def vtt_to_txt(file):\n",
    "    vtt = webvtt.read(file)\n",
    "    transcript = \"\"\n",
    "\n",
    "    lines = []\n",
    "    for line in vtt:\n",
    "        lines.extend(line.text.strip().splitlines())\n",
    "\n",
    "    previous = None\n",
    "    for line in lines:\n",
    "        if line == previous:\n",
    "           continue\n",
    "        transcript += \" \" + line\n",
    "        previous = line\n",
    "\n",
    "    return transcript"
   ]
  },
  {
   "cell_type": "code",
   "execution_count": 11,
   "metadata": {},
   "outputs": [],
   "source": [
    "SUBTITLE_DIR = '../subtitle-diff/' # directory with .vtt files"
   ]
  },
  {
   "cell_type": "code",
   "execution_count": 13,
   "metadata": {},
   "outputs": [],
   "source": [
    "ids = []\n",
    "docs = []\n",
    "\n",
    "for f in glob(os.path.join(SUBTITLE_DIR, '*.vtt')):\n",
    "    docs.append(vtt_to_txt(f))\n",
    "    ids.append(f)"
   ]
  },
  {
   "cell_type": "code",
   "execution_count": 14,
   "metadata": {},
   "outputs": [],
   "source": [
    "# preprocessing\n",
    "docs = [re.sub('([0-9]+|<[^>]+>|</[^>]+>|\\[[^\\]]*\\])', '', d.replace('\\n', '')) for d in docs]"
   ]
  },
  {
   "cell_type": "code",
   "execution_count": 18,
   "metadata": {},
   "outputs": [],
   "source": [
    "vectorizer = TfidfVectorizer(stop_words='english')\n",
    "X = vectorizer.fit_transform(docs)"
   ]
  },
  {
   "cell_type": "code",
   "execution_count": 19,
   "metadata": {},
   "outputs": [],
   "source": [
    "def get_top_n(csr_matrix, row, n = 10):\n",
    "    # https://stackoverflow.com/questions/31790819/scipy-sparse-csr-matrix-how-to-get-top-ten-values-and-indices\n",
    "    row = csr_matrix.getrow(row).toarray()[0].ravel()\n",
    "    top_indicies = row.argsort()[::-1][:n]\n",
    "    top_values = row[row.argsort()[::-1][:n]]\n",
    "    \n",
    "    return top_indicies, top_values"
   ]
  },
  {
   "cell_type": "code",
   "execution_count": 21,
   "metadata": {},
   "outputs": [],
   "source": [
    "features = vectorizer.get_feature_names()\n",
    "\n",
    "data = []\n",
    "\n",
    "for i in range(len(docs)):\n",
    "    top = [features[x] for x in get_top_n(X, i, 10)[0]]\n",
    "    videoId = ids[i][-18:-7]\n",
    "    link = 'https://youtu.be/' + videoId\n",
    "    title = ids[i][12:-19]\n",
    "    data.append({ 'videoId': videoId, 'title': title, 'link': link, 'keywords': ','.join(top) })"
   ]
  },
  {
   "cell_type": "code",
   "execution_count": 22,
   "metadata": {},
   "outputs": [],
   "source": [
    "df = pd.DataFrame(data)"
   ]
  },
  {
   "cell_type": "code",
   "execution_count": 23,
   "metadata": {},
   "outputs": [],
   "source": [
    "df.to_excel('top_keywords_from_subtitles.xlsx')"
   ]
  },
  {
   "cell_type": "code",
   "execution_count": 24,
   "metadata": {},
   "outputs": [],
   "source": [
    "df.to_json('top_keywords_from_subtitles.json')"
   ]
  },
  {
   "cell_type": "code",
   "execution_count": null,
   "metadata": {},
   "outputs": [],
   "source": []
  }
 ],
 "metadata": {
  "kernelspec": {
   "display_name": "Python 3",
   "language": "python",
   "name": "python3"
  },
  "language_info": {
   "codemirror_mode": {
    "name": "ipython",
    "version": 3
   },
   "file_extension": ".py",
   "mimetype": "text/x-python",
   "name": "python",
   "nbconvert_exporter": "python",
   "pygments_lexer": "ipython3",
   "version": "3.7.7"
  }
 },
 "nbformat": 4,
 "nbformat_minor": 2
}
