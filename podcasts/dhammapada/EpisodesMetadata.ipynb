{
 "cells": [
  {
   "cell_type": "code",
   "execution_count": 98,
   "metadata": {},
   "outputs": [],
   "source": [
    "import pandas as pd\n",
    "import json\n",
    "import re"
   ]
  },
  {
   "cell_type": "code",
   "execution_count": 99,
   "metadata": {},
   "outputs": [],
   "source": [
    "with open('../../metadata/youtube-api/videos_list_yutt.json') as f:\n",
    "    videos_list_yutt = json.loads(f.read())"
   ]
  },
  {
   "cell_type": "code",
   "execution_count": 100,
   "metadata": {},
   "outputs": [],
   "source": [
    "videos = [v for v in videos_list_yutt if 'Dhammapada' in v['snippet']['title']]\n",
    "titles = [v['snippet']['title'] for v in videos]"
   ]
  },
  {
   "cell_type": "code",
   "execution_count": 101,
   "metadata": {},
   "outputs": [],
   "source": [
    "numbers = []\n",
    "mapping = {}\n",
    "\n",
    "for i, title in enumerate(titles):\n",
    "    m = re.findall(r'([0-9]+)', title)\n",
    "    \n",
    "    new_numbers = []\n",
    "    if len(m) == 3:\n",
    "        new_numbers = [int(x) for x in m]\n",
    "    elif len(m) == 2:\n",
    "        new_numbers = list(range(int(m[0]), int(m[1]) + 1))\n",
    "    elif len(m) == 1:\n",
    "        new_numbers = [int(m[0])]\n",
    "    \n",
    "    numbers += new_numbers\n",
    "    \n",
    "    for n in new_numbers:\n",
    "        mapping[n] = videos[i]"
   ]
  },
  {
   "cell_type": "code",
   "execution_count": 102,
   "metadata": {},
   "outputs": [
    {
     "data": {
      "text/plain": [
       "[2, 3, 4, 5, 6, 7, 8, 9, 10]"
      ]
     },
     "execution_count": 102,
     "metadata": {},
     "output_type": "execute_result"
    }
   ],
   "source": [
    "[x for x in range(1, 224) if not x in numbers] # written numbers missing"
   ]
  },
  {
   "cell_type": "code",
   "execution_count": 103,
   "metadata": {},
   "outputs": [],
   "source": [
    "with open('verses.txt') as f:\n",
    "    verses = f.read().split('\\n---\\n')"
   ]
  },
  {
   "cell_type": "code",
   "execution_count": 104,
   "metadata": {},
   "outputs": [],
   "source": [
    "exceptions = [207, 210, 198, 189, 190, 191, 184, 138, 139, 88, 10, 9, 8, 7, 6, 5, 4, 3, 2]\n",
    "\n",
    "for verse in verses:\n",
    "    for num in [int(n) for n in re.findall(r'[0-9]+', verse)]:\n",
    "        assert (num in exceptions or str(num) in mapping[num]['snippet']['title'])\n",
    "        \n",
    "for i, verse in enumerate(verses):\n",
    "    for num in [int(n) for n in re.findall(r'[0-9]+', verse)]:\n",
    "        assert (num in exceptions or str(num) in videos[i]['snippet']['title'])"
   ]
  },
  {
   "cell_type": "code",
   "execution_count": 105,
   "metadata": {},
   "outputs": [],
   "source": [
    "df = pd.read_json('../../metadata/subtitles/top_keywords_from_subtitles.json')\n",
    "keywords = { row.link: row.keywords for row in df.itertuples() }"
   ]
  },
  {
   "cell_type": "code",
   "execution_count": 106,
   "metadata": {},
   "outputs": [],
   "source": [
    "def create_desc(verse, video, tags):\n",
    "    template = \"\"\"%s\n",
    "\n",
    "Part of a series on the Dhammapada, a set of 423 verse teachings given by the Buddha, including explanation of the Pali verse, a synopsis of the background story and application of the teaching to our practice.\n",
    "\n",
    "<b>Original YouTube-Video:</b> %s\n",
    "<b>For more information on the Dhammapada:</b> http://www.buddhanet.net/e-learning/buddhism/dhammapada.htm\n",
    "<b>Automatic Keywords:</b> %s\n",
    "\"\"\" % (verse, video, tags)\n",
    "    return template"
   ]
  },
  {
   "cell_type": "code",
   "execution_count": 112,
   "metadata": {},
   "outputs": [],
   "source": [
    "items = []\n",
    "\n",
    "for i in range(len(videos)):\n",
    "    link = 'https://youtu.be/' + videos[i]['id']\n",
    "    tags = 'None' if not link in keywords else keywords[link]\n",
    "    tags = ', '.join(tags.split(',')[:3])\n",
    "    desc = create_desc(verses[i], link, tags)\n",
    "    items.append({\n",
    "        'title': videos[i]['snippet']['title'],\n",
    "        'description': desc,\n",
    "        'duration': ''\n",
    "    })"
   ]
  },
  {
   "cell_type": "code",
   "execution_count": null,
   "metadata": {},
   "outputs": [],
   "source": []
  }
 ],
 "metadata": {
  "kernelspec": {
   "display_name": "Python 3",
   "language": "python",
   "name": "python3"
  },
  "language_info": {
   "codemirror_mode": {
    "name": "ipython",
    "version": 3
   },
   "file_extension": ".py",
   "mimetype": "text/x-python",
   "name": "python",
   "nbconvert_exporter": "python",
   "pygments_lexer": "ipython3",
   "version": "3.7.7"
  }
 },
 "nbformat": 4,
 "nbformat_minor": 2
}
