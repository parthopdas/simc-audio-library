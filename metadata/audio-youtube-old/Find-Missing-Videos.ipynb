{
 "cells": [
  {
   "cell_type": "code",
   "execution_count": 3,
   "metadata": {},
   "outputs": [],
   "source": [
    "import json\n",
    "import pandas as pd\n",
    "from collections import defaultdict\n",
    "from glob import glob\n",
    "from os import path\n",
    "from datetime import datetime"
   ]
  },
  {
   "cell_type": "code",
   "execution_count": 4,
   "metadata": {},
   "outputs": [],
   "source": [
    "FILES_DIR = '/home/skussl/Downloads/bond-files/' # directory with ogg files from archive (files from Bond)"
   ]
  },
  {
   "cell_type": "code",
   "execution_count": 5,
   "metadata": {},
   "outputs": [],
   "source": [
    "files = [path.basename(x) for x in glob(path.join(FILES_DIR, 'files/*'))]"
   ]
  },
  {
   "cell_type": "code",
   "execution_count": 6,
   "metadata": {},
   "outputs": [],
   "source": [
    "with open('../youtube-api/videos_list_yutt.json') as f:\n",
    "    videos_list_yutt = json.loads(f.read())"
   ]
  },
  {
   "cell_type": "code",
   "execution_count": 7,
   "metadata": {},
   "outputs": [],
   "source": [
    "manual_mapping = {\n",
    "    '20170930_The \\'Ball of Honey\\' Discourse - Madhupindika Sutta (MN 18).ogg': 'https://youtu.be/nlSpMukrJzs',\n",
    "    '20111111_Ask A Monk - Meditating 24_7.ogg': 'https://youtu.be/AA8tL9eTUxE',\n",
    "    '20110806_Dhammapada Verse One - Mind Precedes All Things.ogg': 'https://youtu.be/lZZiE-EofAE',\n",
    "    '20100809_Ask A Monk - \\'That Place Inside\\' and Issues from Childhood.ogg': 'https://youtu.be/e4I_Nx5vDmY',\n",
    "    '20100803_Ask A Monk - Meaning of \\'Mindfulness\\' and \\'Clear Thought\\'.ogg': 'https://youtu.be/zAEubYyR43g',\n",
    "    '20100726_LIAD - 9_30 PM - Ask A Monk.ogg': 'https://youtu.be/OyMWmLAFtJQ',\n",
    "    '20100726_LIAD - 10_30 AM - Alms Round 51 of 66.ogg': 'https://youtu.be/KF0FFBjGVlw',\n",
    "    '20100725_LIAD - 10_30 AM Almsround 54 of 66.ogg': 'https://youtu.be/M_O7rZ3MSNQ',\n",
    "    '20100725_LIAD - 10_30 AM Almsround 25 of 66.ogg': 'https://youtu.be/t_XP_xbs_ig',\n",
    "    '20100725_LIAD - 10_30 AM - Almsround 8 of 66.ogg': 'https://youtu.be/oYsdWxsZ8Fc',\n",
    "    '20100725_LIAD - 10_30 AM - Almsround 4 of 66.ogg': 'https://youtu.be/q-sfslbV_OI',\n",
    "    '20100725_LIAD - 10_30 AM - Almsround 12 of 66.ogg': 'https://youtu.be/lO8w4Zn_MI0',\n",
    "    '20100724_LIAD - 4_30 AM - Chanting 1 of 2.ogg': 'https://youtu.be/zU33ID0PBlc'\n",
    "}"
   ]
  },
  {
   "cell_type": "code",
   "execution_count": null,
   "metadata": {},
   "outputs": [],
   "source": [
    "found = set()\n",
    "canditates = defaultdict(list)\n",
    "\n",
    "for file in files:\n",
    "    dt_file = datetime.strptime(file[:8], \"%Y%m%d\")\n",
    "    name = file[9:-4]\n",
    "    \n",
    "    if file in manual_mapping:\n",
    "        found.add(file)\n",
    "        continue\n",
    "\n",
    "    for video in videos_list_yutt:\n",
    "        dt = datetime.strptime(video['snippet']['publishedAt'][:10], \"%Y-%m-%d\")\n",
    "        \n",
    "        dt_diff = (dt_file - dt).days\n",
    "        \n",
    "        if abs(dt_diff) > 1:\n",
    "            continue\n",
    "            \n",
    "        canditates[file].append(video)\n",
    "        \n",
    "        if video['snippet']['title'].replace('?', '') in [name, name.replace(' -', ':', 1).replace('_', ' ')]:\n",
    "            found.add(file)\n",
    "            \n",
    "            if file in canditates:\n",
    "                del canditates[file]\n",
    "            \n",
    "            break"
   ]
  },
  {
   "cell_type": "code",
   "execution_count": null,
   "metadata": {},
   "outputs": [],
   "source": [
    "not_found = set(files) - found\n",
    "not_found = sorted(not_found)[::-1]"
   ]
  },
  {
   "cell_type": "code",
   "execution_count": null,
   "metadata": {},
   "outputs": [],
   "source": [
    "len(not_found)"
   ]
  },
  {
   "cell_type": "code",
   "execution_count": null,
   "metadata": {},
   "outputs": [],
   "source": [
    "with open('files_not_found.json', 'w') as f:\n",
    "    f.write(json.dumps(not_found))"
   ]
  },
  {
   "cell_type": "code",
   "execution_count": 11,
   "metadata": {},
   "outputs": [],
   "source": [
    "#canditate_list = []\n",
    "\n",
    "#for file in not_found:\n",
    "#    if not file in canditates:\n",
    "#        canditate_list.append({\n",
    "#            'filename': file\n",
    "#        })\n",
    "#    else:\n",
    "#        for video in canditates[file]:\n",
    "#            canditate_list.append({\n",
    "#                'filename': file,\n",
    "#                'candidateTitle': video['snippet']['title'],\n",
    "#                'candidateLink': 'https://youtu.be/' + video['id']\n",
    "#            })\n",
    "#df = pd.DataFrame(canditate_list)\n",
    "#df.to_excel('not_found_candidates.xlsx')"
   ]
  }
 ],
 "metadata": {
  "kernelspec": {
   "display_name": "Python 3",
   "language": "python",
   "name": "python3"
  },
  "language_info": {
   "codemirror_mode": {
    "name": "ipython",
    "version": 3
   },
   "file_extension": ".py",
   "mimetype": "text/x-python",
   "name": "python",
   "nbconvert_exporter": "python",
   "pygments_lexer": "ipython3",
   "version": "3.7.7"
  }
 },
 "nbformat": 4,
 "nbformat_minor": 2
}
