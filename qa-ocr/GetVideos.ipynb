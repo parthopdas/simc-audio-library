{
 "cells": [
  {
   "cell_type": "code",
   "execution_count": 4,
   "metadata": {},
   "outputs": [],
   "source": [
    "import json\n",
    "import re"
   ]
  },
  {
   "cell_type": "code",
   "execution_count": 2,
   "metadata": {},
   "outputs": [],
   "source": [
    "with open('../metadata/youtube-api/videos_list_yutt.json') as f:\n",
    "    videos_list_yutt = sorted(json.loads(f.read()), key=lambda x: x['snippet']['publishedAt'], reverse=True)"
   ]
  },
  {
   "cell_type": "code",
   "execution_count": 5,
   "metadata": {},
   "outputs": [],
   "source": [
    "qa_vids = [x for x in videos_list_yutt if re.search(r'q\\s{,3}\\&\\s{,3}a', x['snippet']['title'], re.I)]"
   ]
  },
  {
   "cell_type": "code",
   "execution_count": 10,
   "metadata": {},
   "outputs": [],
   "source": [
    "qa_vids_screen = []\n",
    "\n",
    "for v in qa_vids:\n",
    "    if v['id'] == 'vCFwi8yK-xo':\n",
    "        break\n",
    "    \n",
    "    qa_vids_screen.append(v)"
   ]
  },
  {
   "cell_type": "code",
   "execution_count": 11,
   "metadata": {},
   "outputs": [
    {
     "data": {
      "text/plain": [
       "'EkFtBW32tDc knwkYBy2e0U rtvEUuXFe4k RH6txg1YqEU _0N2AMIh2jI EWVHkoC4MUg Of7cnAdls4w GxHUpFQdRm4 L4jzVWkPpu4 ksYXlf7Nbgw Jhfq_dx1A00 f6X13Ar9Cfw W6wHkfolnhc xBAUrAQhPYY wfdF8kVchtk 98HHeZ6iVJU MgzRNhgGJAw WJ0m7EdfsN0 v08nbHJ9v7c 193yPJAshhk 06FnA9TdJ_c C4qU9oshH24 BZ73sQCWn-w p7ph-stHTTg ZStbKBzI780 R7CKWsU6nLo dxQm7gXiZPM _fOBzm-MxjQ hP0nC2YaZtM 0VkuX_2EwRM'"
      ]
     },
     "execution_count": 11,
     "metadata": {},
     "output_type": "execute_result"
    }
   ],
   "source": [
    "' '.join([x['id'] for x in qa_vids_screen])"
   ]
  },
  {
   "cell_type": "code",
   "execution_count": 13,
   "metadata": {},
   "outputs": [],
   "source": [
    "with open('qa_vids.json', 'w') as f:\n",
    "    f.write(json.dumps(qa_vids_screen))"
   ]
  },
  {
   "cell_type": "code",
   "execution_count": 18,
   "metadata": {},
   "outputs": [],
   "source": [
    "y = [x['id'] for x in qa_vids_screen if not x['id'] in z]"
   ]
  },
  {
   "cell_type": "code",
   "execution_count": 16,
   "metadata": {},
   "outputs": [],
   "source": [
    "z = \"\"\"Of7cnAdls4w\n",
    "_0N2AMIh2jI\n",
    "EkFtBW32tDc\n",
    "EWVHkoC4MUg\n",
    "rtvEUuXFe4k\n",
    "GxHUpFQdRm4\n",
    "knwkYBy2e0U\n",
    "RH6txg1YqEU\"\"\".split('\\n')"
   ]
  },
  {
   "cell_type": "code",
   "execution_count": 17,
   "metadata": {},
   "outputs": [
    {
     "data": {
      "text/plain": [
       "['Of7cnAdls4w',\n",
       " '_0N2AMIh2jI',\n",
       " 'EkFtBW32tDc',\n",
       " 'EWVHkoC4MUg',\n",
       " 'rtvEUuXFe4k',\n",
       " 'GxHUpFQdRm4',\n",
       " 'knwkYBy2e0U',\n",
       " 'RH6txg1YqEU']"
      ]
     },
     "execution_count": 17,
     "metadata": {},
     "output_type": "execute_result"
    }
   ],
   "source": [
    "z"
   ]
  },
  {
   "cell_type": "code",
   "execution_count": 20,
   "metadata": {},
   "outputs": [
    {
     "data": {
      "text/plain": [
       "'L4jzVWkPpu4 ksYXlf7Nbgw Jhfq_dx1A00 f6X13Ar9Cfw W6wHkfolnhc xBAUrAQhPYY wfdF8kVchtk 98HHeZ6iVJU MgzRNhgGJAw WJ0m7EdfsN0 v08nbHJ9v7c 193yPJAshhk 06FnA9TdJ_c C4qU9oshH24 BZ73sQCWn-w p7ph-stHTTg ZStbKBzI780 R7CKWsU6nLo dxQm7gXiZPM _fOBzm-MxjQ hP0nC2YaZtM 0VkuX_2EwRM'"
      ]
     },
     "execution_count": 20,
     "metadata": {},
     "output_type": "execute_result"
    }
   ],
   "source": [
    "' '.join(y)"
   ]
  },
  {
   "cell_type": "code",
   "execution_count": null,
   "metadata": {},
   "outputs": [],
   "source": []
  }
 ],
 "metadata": {
  "kernelspec": {
   "display_name": "Python 3",
   "language": "python",
   "name": "python3"
  },
  "language_info": {
   "codemirror_mode": {
    "name": "ipython",
    "version": 3
   },
   "file_extension": ".py",
   "mimetype": "text/x-python",
   "name": "python",
   "nbconvert_exporter": "python",
   "pygments_lexer": "ipython3",
   "version": "3.7.8"
  }
 },
 "nbformat": 4,
 "nbformat_minor": 2
}
