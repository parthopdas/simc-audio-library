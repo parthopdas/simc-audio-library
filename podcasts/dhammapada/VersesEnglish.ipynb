{
 "cells": [
  {
   "cell_type": "code",
   "execution_count": 2,
   "metadata": {},
   "outputs": [],
   "source": [
    "from bs4 import BeautifulSoup\n",
    "from os import path\n",
    "from glob import glob"
   ]
  },
  {
   "cell_type": "code",
   "execution_count": 12,
   "metadata": {},
   "outputs": [],
   "source": [
    "verses = {}\n",
    "links = {}\n",
    "\n",
    "for file in glob('../../../sc-data/html_text/en/pli/sutta/kn/dhp/buddharakkhita/dhp/*.html'):\n",
    "    with open(file) as f:\n",
    "        soup = BeautifulSoup(f.read(), 'html.parser')\n",
    "\n",
    "    for a in soup.find_all('a', class_='ref sc'):\n",
    "        dhp_id = a.attrs['data-uid']\n",
    "        if not dhp_id.startswith('dhp'):\n",
    "            continue\n",
    "\n",
    "        dhp_num = int(dhp_id[3:])\n",
    "        dhp_verse = a.find_parent('p').text.replace('SC %s' % (dhp_num), '')\n",
    "        assert not dhp_num in verses\n",
    "        verses[dhp_num] = dhp_verse\n",
    "        file_id = path.basename(file).replace('.html', '')\n",
    "        links[dhp_num] = 'https://suttacentral.net/%s/en/buddharakkhita#%s' % (file_id, a.attrs['id'].replace('sc', ''))"
   ]
  },
  {
   "cell_type": "code",
   "execution_count": 13,
   "metadata": {},
   "outputs": [],
   "source": [
    "import json\n",
    "with open('verses_english.json', 'w') as f:\n",
    "    f.write(json.dumps(verses))\n",
    "with open('verses_english_links.json', 'w') as f:\n",
    "    f.write(json.dumps(links))"
   ]
  },
  {
   "cell_type": "code",
   "execution_count": 15,
   "metadata": {},
   "outputs": [
    {
     "data": {
      "text/plain": [
       "'https://suttacentral.net/dhp221-234/en/buddharakkhita#226'"
      ]
     },
     "execution_count": 15,
     "metadata": {},
     "output_type": "execute_result"
    }
   ],
   "source": [
    "links[226]"
   ]
  },
  {
   "cell_type": "code",
   "execution_count": null,
   "metadata": {},
   "outputs": [],
   "source": []
  }
 ],
 "metadata": {
  "kernelspec": {
   "display_name": "Python 3",
   "language": "python",
   "name": "python3"
  },
  "language_info": {
   "codemirror_mode": {
    "name": "ipython",
    "version": 3
   },
   "file_extension": ".py",
   "mimetype": "text/x-python",
   "name": "python",
   "nbconvert_exporter": "python",
   "pygments_lexer": "ipython3",
   "version": "3.7.7"
  }
 },
 "nbformat": 4,
 "nbformat_minor": 2
}
