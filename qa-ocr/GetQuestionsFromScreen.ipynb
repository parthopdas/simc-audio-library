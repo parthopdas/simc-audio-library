{
 "cells": [
  {
   "cell_type": "code",
   "execution_count": 29,
   "metadata": {},
   "outputs": [],
   "source": [
    "import cv2\n",
    "import re\n",
    "import json\n",
    "import pytesseract\n",
    "import argparse\n",
    "import editdistance"
   ]
  },
  {
   "cell_type": "code",
   "execution_count": 30,
   "metadata": {},
   "outputs": [],
   "source": [
    "def get_text_at_second(t):\n",
    "    cap.set(cv2.CAP_PROP_POS_MSEC, 1000 * t)\n",
    "    ret, frame = cap.read()\n",
    "    img_rgb = cv2.cvtColor(frame, cv2.COLOR_BGR2RGB)\n",
    "    \n",
    "    return pytesseract.image_to_string(img_rgb)"
   ]
  },
  {
   "cell_type": "code",
   "execution_count": 31,
   "metadata": {},
   "outputs": [],
   "source": [
    "def is_same_noisy_text(a, b):\n",
    "    return editdistance.distance(a.lower(), b.lower()) < 3"
   ]
  },
  {
   "cell_type": "code",
   "execution_count": 32,
   "metadata": {},
   "outputs": [],
   "source": [
    "def process(file):\n",
    "    cap = cv2.VideoCapture(file)\n",
    "    \n",
    "    fps = cap.get(cv2.CAP_PROP_FPS) # https://stackoverflow.com/a/52032374\n",
    "    frame_count = int(cap.get(cv2.CAP_PROP_FRAME_COUNT))\n",
    "    duration = frame_count / fps\n",
    "    \n",
    "    t = 0\n",
    "\n",
    "    current_text = ''\n",
    "    new_text = ''\n",
    "\n",
    "\n",
    "    texts = []\n",
    "\n",
    "    current_text = get_text_at_second(0)\n",
    "    current_text_start_pos = 0\n",
    "\n",
    "    times = list(range(1, int(duration), 30))\n",
    "    times += list(range(times[-1] + 1, int(duration)))\n",
    "\n",
    "    for t in range(1, int(duration), 30):\n",
    "        text = get_text_at_second(t)\n",
    "\n",
    "        if is_same_noisy_text(text, current_text):\n",
    "            # same 'slide'\n",
    "            continue\n",
    "\n",
    "\n",
    "        found = False\n",
    "\n",
    "        for j in range(t, current_text_start_pos, -1):\n",
    "            temp_text = get_text_at_second(j)\n",
    "            \n",
    "            if is_same_noisy_text(temp_text, current_text):\n",
    "                current_text = text\n",
    "                current_text_start_pos = j\n",
    "                texts.append((j, text))\n",
    "                found = True\n",
    "                break\n",
    "\n",
    "        if not found:\n",
    "            print('ERROR: NOT FOUND', t, text)\n",
    "            break\n",
    "    \n",
    "    return texts"
   ]
  },
  {
   "cell_type": "code",
   "execution_count": 33,
   "metadata": {},
   "outputs": [],
   "source": [
    "def clean_text(text):\n",
    "    cleaned = text\n",
    "    cleaned = text.replace('\\n', ' ')\n",
    "    cleaned = re.sub(r'\\s+', ' ', cleaned)\n",
    "    cleaned = cleaned.strip()\n",
    "    \n",
    "    cleaned = re.sub(r'^Question', '', cleaned, re.I)\n",
    "    cleaned = re.sub(r'sirimangalo\\.org$', '', cleaned, re.I)\n",
    "    \n",
    "    cleaned = cleaned.replace('|', 'I')\n",
    "    \n",
    "    return cleaned.strip()"
   ]
  },
  {
   "cell_type": "code",
   "execution_count": 35,
   "metadata": {},
   "outputs": [
    {
     "name": "stdout",
     "output_type": "stream",
     "text": [
      "CPU times: user 4min 3s, sys: 10.4 s, total: 4min 13s\n",
      "Wall time: 8min 20s\n"
     ]
    }
   ],
   "source": [
    "%%time\n",
    "texts = process('./videos/EkFtBW32tDc.mkv')"
   ]
  },
  {
   "cell_type": "code",
   "execution_count": 19,
   "metadata": {},
   "outputs": [
    {
     "name": "stdout",
     "output_type": "stream",
     "text": [
      "13:56 How much effort and time should one put into finding a mantra for the experience before it just becomes \"thinking\"?\n",
      "16:33 I have an emotional pain that is sinking me. On what basis should I disidentify from it and let it go as not concerning me? It is my responsibility to have created the conditions for it to occur.\n",
      "24:00 How do we know that our meditation is progressing?\n",
      "29:00 As I meditate more often, I find my physical experiences during meditation becoming more intense, such as my weight on my feet or pain in my back. Is this normal and will it remain so going forward?\n",
      "35:47 How do you cope with chronic illness and symptoms of pain with meditation? I find it very challenging as im just getting started with meditation.\n",
      "38:49 im currently in my last year of studies before university, and there is a lot of pressure for me to go well in studies. I find myself feeling dissatisfied at the end of the day. How can I stay mindful?\n",
      "43:52 Should one force himself to meditate every day or should one not meditate if it requires forcing oneself?\n",
      "46:32 What are ways to make practice more continual outside of formal periods of sitting? Is this a natural outcome of years of practice or are there ways to “expedite” the process, so to say?\n",
      "49:58 Bhante, would you recommend a serious lay practitioner to take the 8 precepts continually? Would this be beneficial for his practice?\n",
      "51:47 I have extreme problems with keeping myself concentrated while meditating. Any solutions?\n",
      "54:05 Would you say that practicing Metta bhavana and mindfulness would be one of the right ways to achieve more compassion?\n",
      "57:34 How do you deal with feeling ashamed? Should I meditate on that, even if it brings many strong negative emotions?\n",
      "60:59 \n"
     ]
    }
   ],
   "source": [
    "for t, text in texts:\n",
    "    print('%02d:%02d %s' % (t // 60, t % 60, clean_text(text)))"
   ]
  },
  {
   "cell_type": "code",
   "execution_count": 37,
   "metadata": {},
   "outputs": [
    {
     "name": "stdout",
     "output_type": "stream",
     "text": [
      "13:56 How much effort and time should one put into finding a mantra for the experience before it just becomes \"thinking\"?\n",
      "16:33 I have an emotional pain that is sinking me. On what basis should I disidentify from it and let it go as not concerning me? It is my responsibility to have created the conditions for it to occur.\n",
      "24:00 How do we know that our meditation is progressing?\n",
      "29:00 As I meditate more often, I find my physical experiences during meditation becoming more intense, such as my weight on my feet or pain in my back. Is this normal and will it remain so going forward?\n",
      "35:47 How do you cope with chronic illness and symptoms of pain with meditation? I find it very challenging as im just getting started with meditation.\n",
      "38:49 im currently in my last year of studies before university, and there is a lot of pressure for me to go well in studies. I find myself feeling dissatisfied at the end of the day. How can I stay mindful?\n",
      "43:52 Should one force himself to meditate every day or should one not meditate if it requires forcing oneself?\n",
      "46:32 What are ways to make practice more continual outside of formal periods of sitting? Is this a natural outcome of years of practice or are there ways to “expedite” the process, so to say?\n",
      "49:58 Bhante, would you recommend a serious lay practitioner to take the 8 precepts continually? Would this be beneficial for his practice?\n",
      "51:47 I have extreme problems with keeping myself concentrated while meditating. Any solutions?\n",
      "54:05 Would you say that practicing Metta bhavana and mindfulness would be one of the right ways to achieve more compassion?\n",
      "57:34 How do you deal with feeling ashamed? Should I meditate on that, even if it brings many strong negative emotions?\n",
      "60:59 \n"
     ]
    }
   ],
   "source": [
    "for t, text in texts:\n",
    "    print('%02d:%02d %s' % (t // 60, t % 60, clean_text(text)))"
   ]
  },
  {
   "cell_type": "code",
   "execution_count": 18,
   "metadata": {},
   "outputs": [
    {
     "data": {
      "text/plain": [
       "13"
      ]
     },
     "execution_count": 18,
     "metadata": {},
     "output_type": "execute_result"
    }
   ],
   "source": [
    "836 // 60"
   ]
  },
  {
   "cell_type": "code",
   "execution_count": 36,
   "metadata": {},
   "outputs": [
    {
     "data": {
      "text/plain": [
       "210"
      ]
     },
     "execution_count": 36,
     "metadata": {},
     "output_type": "execute_result"
    }
   ],
   "source": [
    "7*30"
   ]
  },
  {
   "cell_type": "code",
   "execution_count": 25,
   "metadata": {},
   "outputs": [
    {
     "data": {
      "text/plain": [
       "3972.0333333333333"
      ]
     },
     "execution_count": 25,
     "metadata": {},
     "output_type": "execute_result"
    }
   ],
   "source": [
    "duration"
   ]
  },
  {
   "cell_type": "code",
   "execution_count": null,
   "metadata": {},
   "outputs": [],
   "source": []
  }
 ],
 "metadata": {
  "kernelspec": {
   "display_name": "Python 3",
   "language": "python",
   "name": "python3"
  },
  "language_info": {
   "codemirror_mode": {
    "name": "ipython",
    "version": 3
   },
   "file_extension": ".py",
   "mimetype": "text/x-python",
   "name": "python",
   "nbconvert_exporter": "python",
   "pygments_lexer": "ipython3",
   "version": "3.7.8"
  }
 },
 "nbformat": 4,
 "nbformat_minor": 2
}
