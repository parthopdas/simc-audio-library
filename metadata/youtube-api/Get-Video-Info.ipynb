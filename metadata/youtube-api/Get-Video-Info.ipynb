{
 "cells": [
  {
   "cell_type": "code",
   "execution_count": 77,
   "metadata": {},
   "outputs": [],
   "source": [
    "from time import sleep\n",
    "from os import path\n",
    "import googleapiclient.discovery\n",
    "import json\n",
    "import os"
   ]
  },
  {
   "cell_type": "code",
   "execution_count": 4,
   "metadata": {},
   "outputs": [],
   "source": [
    "DEVELOPER_KEY = \"KEY\""
   ]
  },
  {
   "cell_type": "code",
   "execution_count": 5,
   "metadata": {},
   "outputs": [],
   "source": [
    "def yt_videos_list(ids):\n",
    "    # Disable OAuthlib's HTTPS verification when running locally.\n",
    "    # *DO NOT* leave this option enabled in production.\n",
    "    os.environ[\"OAUTHLIB_INSECURE_TRANSPORT\"] = \"1\"\n",
    "\n",
    "    api_service_name = \"youtube\"\n",
    "    api_version = \"v3\"\n",
    "\n",
    "    youtube = googleapiclient.discovery.build(\n",
    "        api_service_name, api_version, developerKey = DEVELOPER_KEY)\n",
    "\n",
    "    request = youtube.videos().list(\n",
    "        part=\"snippet,contentDetails,topicDetails,statistics,liveStreamingDetails\",\n",
    "        maxResults=50,\n",
    "        id=ids\n",
    "    )\n",
    "    response = request.execute()\n",
    "    \n",
    "    return response"
   ]
  },
  {
   "cell_type": "code",
   "execution_count": 78,
   "metadata": {},
   "outputs": [],
   "source": [
    "# load list of ids\n",
    "with open('../../download/ids.txt', 'rb') as f:\n",
    "    video_ids = f.read()\n",
    "    \n",
    "video_ids = video_ids.decode(\"utf-16\").rstrip(\"\\r\\n\").split(\"\\r\\n\") # ref: https://stackoverflow.com/a/45717703"
   ]
  },
  {
   "cell_type": "code",
   "execution_count": 52,
   "metadata": {},
   "outputs": [],
   "source": [
    "chunks = []\n",
    "\n",
    "for i in range(1 + (len(video_ids) // 50)):\n",
    "    chunk = video_ids[i*50:(i+1)*50]\n",
    "    \n",
    "    if len(chunk) > 0:\n",
    "        chunks.append(chunk)"
   ]
  },
  {
   "cell_type": "code",
   "execution_count": 54,
   "metadata": {},
   "outputs": [
    {
     "name": "stdout",
     "output_type": "stream",
     "text": [
      "Getting chunk 0\n",
      "Getting chunk 1\n",
      "Getting chunk 2\n",
      "Getting chunk 3\n",
      "Getting chunk 4\n",
      "Getting chunk 5\n",
      "Getting chunk 6\n",
      "Getting chunk 7\n",
      "Getting chunk 8\n",
      "Getting chunk 9\n",
      "Getting chunk 10\n",
      "Getting chunk 11\n",
      "Getting chunk 12\n",
      "Getting chunk 13\n",
      "Getting chunk 14\n",
      "Getting chunk 15\n",
      "Getting chunk 16\n",
      "Getting chunk 17\n",
      "Getting chunk 18\n",
      "Getting chunk 19\n",
      "Getting chunk 20\n",
      "Getting chunk 21\n",
      "Getting chunk 22\n",
      "Getting chunk 23\n",
      "Getting chunk 24\n",
      "Getting chunk 25\n",
      "Getting chunk 26\n",
      "Getting chunk 27\n",
      "Getting chunk 28\n",
      "Getting chunk 29\n",
      "Getting chunk 30\n",
      "Getting chunk 31\n",
      "Getting chunk 32\n",
      "Getting chunk 33\n",
      "Getting chunk 34\n"
     ]
    }
   ],
   "source": [
    "res = []\n",
    "\n",
    "for i, chunk in enumerate(chunks):\n",
    "    print('Getting chunk %i' % (i))\n",
    "    res.append(yt_videos_list(','.join(chunk)))\n",
    "    sleep(3)"
   ]
  },
  {
   "cell_type": "code",
   "execution_count": 55,
   "metadata": {},
   "outputs": [],
   "source": [
    "def filter_items(data):\n",
    "    \"\"\" Extract items and remove duplicates \"\"\"\n",
    "    seen = set()\n",
    "    items = []\n",
    "\n",
    "    for page in data:\n",
    "        for item in page['items']:\n",
    "            item_id = str(item['id'])\n",
    "\n",
    "            if not item_id in seen:\n",
    "                items.append(item)\n",
    "                seen.add(item_id)\n",
    "    \n",
    "    return items"
   ]
  },
  {
   "cell_type": "code",
   "execution_count": 82,
   "metadata": {},
   "outputs": [],
   "source": [
    "items = filter_items(res)"
   ]
  },
  {
   "cell_type": "code",
   "execution_count": 83,
   "metadata": {},
   "outputs": [],
   "source": [
    "assert set(video_ids) - set([x['id'] for x in items]) == set()"
   ]
  },
  {
   "cell_type": "code",
   "execution_count": 75,
   "metadata": {},
   "outputs": [],
   "source": [
    "with open('videos_list.json', 'w') as f:\n",
    "    f.write(json.dumps(items))"
   ]
  }
 ],
 "metadata": {
  "kernelspec": {
   "display_name": "Python 3",
   "language": "python",
   "name": "python3"
  },
  "language_info": {
   "codemirror_mode": {
    "name": "ipython",
    "version": 3
   },
   "file_extension": ".py",
   "mimetype": "text/x-python",
   "name": "python",
   "nbconvert_exporter": "python",
   "pygments_lexer": "ipython3",
   "version": "3.7.7"
  }
 },
 "nbformat": 4,
 "nbformat_minor": 2
}
