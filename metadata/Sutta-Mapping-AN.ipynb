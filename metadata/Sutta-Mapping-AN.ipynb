{
 "cells": [
  {
   "cell_type": "code",
   "execution_count": 147,
   "metadata": {},
   "outputs": [],
   "source": [
    "import json\n",
    "import os\n",
    "import googleapiclient.discovery\n",
    "import re\n",
    "import pandas as pd"
   ]
  },
  {
   "cell_type": "code",
   "execution_count": 155,
   "metadata": {},
   "outputs": [],
   "source": [
    "DEVELOPER_KEY = \"\""
   ]
  },
  {
   "cell_type": "code",
   "execution_count": 4,
   "metadata": {},
   "outputs": [],
   "source": [
    "def get_comments_of_video(videoId, pageToken = None):\n",
    "    # Disable OAuthlib's HTTPS verification when running locally.\n",
    "    # *DO NOT* leave this option enabled in production.\n",
    "    os.environ[\"OAUTHLIB_INSECURE_TRANSPORT\"] = \"1\"\n",
    "\n",
    "    api_service_name = \"youtube\"\n",
    "    api_version = \"v3\"\n",
    "\n",
    "    youtube = googleapiclient.discovery.build(\n",
    "        api_service_name, api_version, developerKey = DEVELOPER_KEY)\n",
    "\n",
    "    request = youtube.commentThreads().list(\n",
    "        part=\"snippet\",\n",
    "        maxResults=100,\n",
    "        order=\"relevance\",\n",
    "        textFormat=\"plainText\",\n",
    "        videoId=videoId,\n",
    "        pageToken=pageToken\n",
    "    )\n",
    "    response = request.execute()\n",
    "\n",
    "    return response"
   ]
  },
  {
   "cell_type": "code",
   "execution_count": 50,
   "metadata": {},
   "outputs": [],
   "source": [
    "def get_comments(commentId):\n",
    "    # Disable OAuthlib's HTTPS verification when running locally.\n",
    "    # *DO NOT* leave this option enabled in production.\n",
    "    os.environ[\"OAUTHLIB_INSECURE_TRANSPORT\"] = \"1\"\n",
    "\n",
    "    api_service_name = \"youtube\"\n",
    "    api_version = \"v3\"\n",
    "\n",
    "    youtube = googleapiclient.discovery.build(\n",
    "        api_service_name, api_version, developerKey = DEVELOPER_KEY)\n",
    "\n",
    "    request = youtube.comments().list(\n",
    "        part=\"snippet\",\n",
    "        parentId=commentId\n",
    "    )\n",
    "    response = request.execute()\n",
    "\n",
    "    return response"
   ]
  },
  {
   "cell_type": "code",
   "execution_count": 7,
   "metadata": {},
   "outputs": [],
   "source": [
    "def get_all_comments(videoId):\n",
    "    items = []\n",
    "\n",
    "    page = get_comments_of_video(videoId)\n",
    "    items += page['items']\n",
    "\n",
    "    while 'nextPageToken' in page:\n",
    "        page = get_comments_of_video(videoId, page['nextPageToken'])\n",
    "        items += page['items']\n",
    "        \n",
    "    return items"
   ]
  },
  {
   "cell_type": "code",
   "execution_count": 13,
   "metadata": {},
   "outputs": [],
   "source": [
    "with open('playlists_with_items.json') as f:\n",
    "    playlists_with_items = json.loads(f.read())"
   ]
  },
  {
   "cell_type": "code",
   "execution_count": 17,
   "metadata": {},
   "outputs": [
    {
     "data": {
      "text/plain": [
       "{'kind': 'youtube#playlist',\n",
       " 'etag': 'sRJbdFZ-z0vLBALaSWLhqmjuPEA',\n",
       " 'id': 'PL4j9bs3T1aPQqT0FI8CNcCi2UYfLxmT6p',\n",
       " 'snippet': {'publishedAt': '2017-10-09T10:20:30Z',\n",
       "  'channelId': 'UCFVuMJgj2QWlg-6JZ1ye9qA',\n",
       "  'title': 'Sutta Studies: Aṅguttara Nikāya',\n",
       "  'description': \"This collection contains videos on different suttas of the Aṅguttara Nikāya.\\nMost talks are followed by a q&a session.\\n\\nSuttas can be found here: http://suttacentral.net\\nand different English translations are provided by Obo's web (http://obo.genaud.net/backmatter/indexes/sutta/sutta_toc.htm).\\n\\n#buddhisttexts\\n#suttastudies\\n#q&a\",\n",
       "  'thumbnails': {'default': {'url': 'https://i.ytimg.com/vi/H32rY8JRB5g/default.jpg',\n",
       "    'width': 120,\n",
       "    'height': 90},\n",
       "   'medium': {'url': 'https://i.ytimg.com/vi/H32rY8JRB5g/mqdefault.jpg',\n",
       "    'width': 320,\n",
       "    'height': 180},\n",
       "   'high': {'url': 'https://i.ytimg.com/vi/H32rY8JRB5g/hqdefault.jpg',\n",
       "    'width': 480,\n",
       "    'height': 360},\n",
       "   'standard': {'url': 'https://i.ytimg.com/vi/H32rY8JRB5g/sddefault.jpg',\n",
       "    'width': 640,\n",
       "    'height': 480},\n",
       "   'maxres': {'url': 'https://i.ytimg.com/vi/H32rY8JRB5g/maxresdefault.jpg',\n",
       "    'width': 1280,\n",
       "    'height': 720}},\n",
       "  'channelTitle': 'Sirimangalo International',\n",
       "  'localized': {'title': 'Sutta Studies: Aṅguttara Nikāya',\n",
       "   'description': \"This collection contains videos on different suttas of the Aṅguttara Nikāya.\\nMost talks are followed by a q&a session.\\n\\nSuttas can be found here: http://suttacentral.net\\nand different English translations are provided by Obo's web (http://obo.genaud.net/backmatter/indexes/sutta/sutta_toc.htm).\\n\\n#buddhisttexts\\n#suttastudies\\n#q&a\"}},\n",
       " 'contentDetails': {'itemCount': 79}}"
      ]
     },
     "execution_count": 17,
     "metadata": {},
     "output_type": "execute_result"
    }
   ],
   "source": [
    "suttas_an = playlists_with_items[7]\n",
    "suttas_an[0]"
   ]
  },
  {
   "cell_type": "code",
   "execution_count": 52,
   "metadata": {},
   "outputs": [],
   "source": [
    "comments_an = {}\n",
    "comments_an_medhini = {} \n",
    "\n",
    "for video in suttas_an[1]:\n",
    "    videoId = video['contentDetails']['videoId']\n",
    "    comments_an[videoId] = get_all_comments(videoId)\n",
    "    \n",
    "    for comment in comments_an[videoId]:\n",
    "        author = comment['snippet']['topLevelComment']['snippet']['authorDisplayName']\n",
    "        \n",
    "        if author == 'Medhiṇī':\n",
    "            comments_an_medhini[videoId] = (comment, get_comments(comment['id']))"
   ]
  },
  {
   "cell_type": "code",
   "execution_count": 53,
   "metadata": {},
   "outputs": [],
   "source": [
    "with open ('comments_an.json', 'w') as f:\n",
    "    f.write(json.dumps(comments_an))\n",
    "    \n",
    "with open ('comments_an_medhini.json', 'w') as f:\n",
    "    f.write(json.dumps(comments_an_medhini))"
   ]
  },
  {
   "cell_type": "code",
   "execution_count": 110,
   "metadata": {},
   "outputs": [],
   "source": [
    "mapping_medhini = {}\n",
    "\n",
    "for videoId, (comment, replies) in comments_an_medhini.items():\n",
    "    text = comment['snippet']['topLevelComment']['snippet']['textDisplay'].split('\\n')[0]\n",
    "    sutta_id = ''\n",
    "    \n",
    "    id_match = re.search('an [0-9]+\\.[0-9]+( - an [0-9]+\\.[0-9]+)?', text, re.I)\n",
    "    if id_match:\n",
    "        sutta_id = id_match[0]\n",
    "      \n",
    "    link = ''\n",
    "    \n",
    "    if replies['items']:\n",
    "        link = replies['items'][0]['snippet']['textDisplay'].split('href=\"')[1].split('\"')[0]\n",
    "\n",
    "    mapping_medhini[videoId] = (sutta_id, text, link)"
   ]
  },
  {
   "cell_type": "code",
   "execution_count": 93,
   "metadata": {},
   "outputs": [],
   "source": [
    "with open ('mapping_medhini.json', 'w') as f:\n",
    "    f.write(json.dumps(mapping_medhini))"
   ]
  },
  {
   "cell_type": "code",
   "execution_count": 94,
   "metadata": {},
   "outputs": [],
   "source": [
    "# infer mapping from title"
   ]
  },
  {
   "cell_type": "code",
   "execution_count": 112,
   "metadata": {},
   "outputs": [],
   "source": [
    "mapping_title = {}\n",
    "\n",
    "for video in suttas_an[1]:\n",
    "    videoId = video['contentDetails']['videoId']\n",
    "    title = video['snippet']['title']\n",
    "    \n",
    "    id_match = re.search('an [0-9]+\\.[0-9]+', title, re.I)\n",
    "    if id_match:\n",
    "        mapping_title[videoId] = id_match[0]"
   ]
  },
  {
   "cell_type": "code",
   "execution_count": 113,
   "metadata": {},
   "outputs": [
    {
     "data": {
      "text/plain": [
       "{'OuAbZjcaRPk': 'AN 5.101',\n",
       " '3XCZcQz4bgA': 'AN 5.105',\n",
       " 'O6-916cYaJw': 'AN 5.154',\n",
       " 'O54RrN6qmPM': 'AN 5.200',\n",
       " 'iQu7FAGD8D8': 'AN 5.216',\n",
       " 'XWSUNuwk-0w': 'AN 6.22',\n",
       " '3m6tonrhIdA': 'AN 6.35',\n",
       " 'h_blbg53BL8': 'AN 6.45',\n",
       " 'TCw6aEbRwwQ': 'AN 6.53'}"
      ]
     },
     "execution_count": 113,
     "metadata": {},
     "output_type": "execute_result"
    }
   ],
   "source": [
    "mapping_title"
   ]
  },
  {
   "cell_type": "code",
   "execution_count": 148,
   "metadata": {},
   "outputs": [],
   "source": [
    "columns = ['videoLink', 'title', 'description', 'sutta', 'publishedAt', 'link']\n",
    "res = []\n",
    "\n",
    "for video in sorted(suttas_an[1], key=lambda x: x['contentDetails']['videoPublishedAt']):\n",
    "    videoId = video['contentDetails']['videoId']\n",
    "    videoPublishedAt = video['contentDetails']['videoPublishedAt']\n",
    "    sutta = video['contentDetails']['note'].split('| ')[1]\n",
    "    title = video['snippet']['title']\n",
    "    description = video['snippet']['description']\n",
    "    link = '' \n",
    "    \n",
    "    if videoId in mapping_medhini and mapping_medhini[videoId][2]:\n",
    "        link = mapping_medhini[videoId][2]\n",
    "    \n",
    "    res.append({\n",
    "        'video': 'https://youtu.be/' + videoId,\n",
    "        'title': title,\n",
    "        'description': description,\n",
    "        'sutta': sutta,\n",
    "        'publishedAt': videoPublishedAt,\n",
    "        'link': link\n",
    "    })"
   ]
  },
  {
   "cell_type": "code",
   "execution_count": 150,
   "metadata": {},
   "outputs": [],
   "source": [
    "df = pd.DataFrame(res)"
   ]
  },
  {
   "cell_type": "code",
   "execution_count": 152,
   "metadata": {},
   "outputs": [
    {
     "data": {
      "text/html": [
       "<div>\n",
       "<style scoped>\n",
       "    .dataframe tbody tr th:only-of-type {\n",
       "        vertical-align: middle;\n",
       "    }\n",
       "\n",
       "    .dataframe tbody tr th {\n",
       "        vertical-align: top;\n",
       "    }\n",
       "\n",
       "    .dataframe thead th {\n",
       "        text-align: right;\n",
       "    }\n",
       "</style>\n",
       "<table border=\"1\" class=\"dataframe\">\n",
       "  <thead>\n",
       "    <tr style=\"text-align: right;\">\n",
       "      <th></th>\n",
       "      <th>video</th>\n",
       "      <th>title</th>\n",
       "      <th>description</th>\n",
       "      <th>sutta</th>\n",
       "      <th>publishedAt</th>\n",
       "      <th>link</th>\n",
       "    </tr>\n",
       "  </thead>\n",
       "  <tbody>\n",
       "    <tr>\n",
       "      <th>0</th>\n",
       "      <td>https://youtu.be/XXGob52-b8c</td>\n",
       "      <td>Second Life: What is the Buddha's Teaching?</td>\n",
       "      <td>A morning session on Second Life ( http://www....</td>\n",
       "      <td>Saṃkhitta Sutta (AN 8.53)</td>\n",
       "      <td>2010-09-02T12:01:46Z</td>\n",
       "      <td></td>\n",
       "    </tr>\n",
       "    <tr>\n",
       "      <th>1</th>\n",
       "      <td>https://youtu.be/UZ5qDqXaChc</td>\n",
       "      <td>Come!</td>\n",
       "      <td>Come!</td>\n",
       "      <td>Quote is from the Andhakavinda Sutta (AN 5.114)</td>\n",
       "      <td>2016-02-22T02:33:31Z</td>\n",
       "      <td>http://what-buddha-said.net/Canon/Sutta/KN/Dha...</td>\n",
       "    </tr>\n",
       "    <tr>\n",
       "      <th>2</th>\n",
       "      <td>https://youtu.be/maSyPJIhM38</td>\n",
       "      <td>Dozing</td>\n",
       "      <td>Dozing</td>\n",
       "      <td>Quote is from the Pacalāyana Sutta (AN 7.58)</td>\n",
       "      <td>2016-03-15T02:43:59Z</td>\n",
       "      <td>http://obo.genaud.net/dhamma-vinaya/ati/an/07_...</td>\n",
       "    </tr>\n",
       "    <tr>\n",
       "      <th>3</th>\n",
       "      <td>https://youtu.be/HSWoECrsI48</td>\n",
       "      <td>The Right Time</td>\n",
       "      <td>The Right Time</td>\n",
       "      <td>Quote is from the Asamaya - Samaya Sutta (AN 5...</td>\n",
       "      <td>2016-03-19T01:25:26Z</td>\n",
       "      <td>http://obo.genaud.net/dhamma-vinaya/pts/an/05_...</td>\n",
       "    </tr>\n",
       "    <tr>\n",
       "      <th>4</th>\n",
       "      <td>https://youtu.be/GwCCiaNLgF8</td>\n",
       "      <td>Nothing But the Mind</td>\n",
       "      <td>Nothing But the Mind</td>\n",
       "      <td>Akammanīya Vagga (AN 1.21–30)</td>\n",
       "      <td>2016-03-26T02:02:50Z</td>\n",
       "      <td>http://obo.genaud.net/dhamma-vinaya/pali/an/01...</td>\n",
       "    </tr>\n",
       "    <tr>\n",
       "      <th>...</th>\n",
       "      <td>...</td>\n",
       "      <td>...</td>\n",
       "      <td>...</td>\n",
       "      <td>...</td>\n",
       "      <td>...</td>\n",
       "      <td>...</td>\n",
       "    </tr>\n",
       "    <tr>\n",
       "      <th>74</th>\n",
       "      <td>https://youtu.be/3m6tonrhIdA</td>\n",
       "      <td>Leading To Knowledge (AN 6.35)</td>\n",
       "      <td>Live stream teaching and Q&amp;A at 9 PM Eastern T...</td>\n",
       "      <td>Vijjābhāgiya Sutta (AN 6.35)</td>\n",
       "      <td>2016-10-24T02:18:17Z</td>\n",
       "      <td></td>\n",
       "    </tr>\n",
       "    <tr>\n",
       "      <th>75</th>\n",
       "      <td>https://youtu.be/h_blbg53BL8</td>\n",
       "      <td>Karmic Debt (AN 6.45)</td>\n",
       "      <td>Live stream teaching and Q&amp;A at 9 PM Eastern T...</td>\n",
       "      <td>Iṇa Sutta (AN 6.45)</td>\n",
       "      <td>2016-10-26T02:51:53Z</td>\n",
       "      <td></td>\n",
       "    </tr>\n",
       "    <tr>\n",
       "      <th>76</th>\n",
       "      <td>https://youtu.be/TCw6aEbRwwQ</td>\n",
       "      <td>Vigilance (AN 6.53)</td>\n",
       "      <td>Live stream teaching and Q&amp;A at 9 PM Eastern T...</td>\n",
       "      <td>Appamāda sutta (AN 6.53)</td>\n",
       "      <td>2016-10-28T02:27:34Z</td>\n",
       "      <td></td>\n",
       "    </tr>\n",
       "    <tr>\n",
       "      <th>77</th>\n",
       "      <td>https://youtu.be/XvO7BkD0baQ</td>\n",
       "      <td>The Ocean</td>\n",
       "      <td>Join us (almost) every night at 9 PM Eastern t...</td>\n",
       "      <td>Pahārāda Sutta (AN 8.19)</td>\n",
       "      <td>2016-12-14T11:57:55Z</td>\n",
       "      <td>https://suttacentral.net/an8.19/en/bodhi</td>\n",
       "    </tr>\n",
       "    <tr>\n",
       "      <th>78</th>\n",
       "      <td>https://youtu.be/k_6H8fsqp6c</td>\n",
       "      <td>Harmony</td>\n",
       "      <td>Join us (almost) every night at 9 PM Eastern t...</td>\n",
       "      <td>Dutiyasāraṇīya Sutta  (AN 6.12)</td>\n",
       "      <td>2017-04-01T11:37:25Z</td>\n",
       "      <td></td>\n",
       "    </tr>\n",
       "  </tbody>\n",
       "</table>\n",
       "<p>79 rows × 6 columns</p>\n",
       "</div>"
      ],
      "text/plain": [
       "                           video                                        title  \\\n",
       "0   https://youtu.be/XXGob52-b8c  Second Life: What is the Buddha's Teaching?   \n",
       "1   https://youtu.be/UZ5qDqXaChc                                        Come!   \n",
       "2   https://youtu.be/maSyPJIhM38                                       Dozing   \n",
       "3   https://youtu.be/HSWoECrsI48                               The Right Time   \n",
       "4   https://youtu.be/GwCCiaNLgF8                         Nothing But the Mind   \n",
       "..                           ...                                          ...   \n",
       "74  https://youtu.be/3m6tonrhIdA               Leading To Knowledge (AN 6.35)   \n",
       "75  https://youtu.be/h_blbg53BL8                        Karmic Debt (AN 6.45)   \n",
       "76  https://youtu.be/TCw6aEbRwwQ                          Vigilance (AN 6.53)   \n",
       "77  https://youtu.be/XvO7BkD0baQ                                    The Ocean   \n",
       "78  https://youtu.be/k_6H8fsqp6c                                      Harmony   \n",
       "\n",
       "                                          description  \\\n",
       "0   A morning session on Second Life ( http://www....   \n",
       "1                                               Come!   \n",
       "2                                              Dozing   \n",
       "3                                      The Right Time   \n",
       "4                                Nothing But the Mind   \n",
       "..                                                ...   \n",
       "74  Live stream teaching and Q&A at 9 PM Eastern T...   \n",
       "75  Live stream teaching and Q&A at 9 PM Eastern T...   \n",
       "76  Live stream teaching and Q&A at 9 PM Eastern T...   \n",
       "77  Join us (almost) every night at 9 PM Eastern t...   \n",
       "78  Join us (almost) every night at 9 PM Eastern t...   \n",
       "\n",
       "                                                sutta           publishedAt  \\\n",
       "0                           Saṃkhitta Sutta (AN 8.53)  2010-09-02T12:01:46Z   \n",
       "1     Quote is from the Andhakavinda Sutta (AN 5.114)  2016-02-22T02:33:31Z   \n",
       "2        Quote is from the Pacalāyana Sutta (AN 7.58)  2016-03-15T02:43:59Z   \n",
       "3   Quote is from the Asamaya - Samaya Sutta (AN 5...  2016-03-19T01:25:26Z   \n",
       "4                       Akammanīya Vagga (AN 1.21–30)  2016-03-26T02:02:50Z   \n",
       "..                                                ...                   ...   \n",
       "74                       Vijjābhāgiya Sutta (AN 6.35)  2016-10-24T02:18:17Z   \n",
       "75                                Iṇa Sutta (AN 6.45)  2016-10-26T02:51:53Z   \n",
       "76                           Appamāda sutta (AN 6.53)  2016-10-28T02:27:34Z   \n",
       "77                           Pahārāda Sutta (AN 8.19)  2016-12-14T11:57:55Z   \n",
       "78                    Dutiyasāraṇīya Sutta  (AN 6.12)  2017-04-01T11:37:25Z   \n",
       "\n",
       "                                                 link  \n",
       "0                                                      \n",
       "1   http://what-buddha-said.net/Canon/Sutta/KN/Dha...  \n",
       "2   http://obo.genaud.net/dhamma-vinaya/ati/an/07_...  \n",
       "3   http://obo.genaud.net/dhamma-vinaya/pts/an/05_...  \n",
       "4   http://obo.genaud.net/dhamma-vinaya/pali/an/01...  \n",
       "..                                                ...  \n",
       "74                                                     \n",
       "75                                                     \n",
       "76                                                     \n",
       "77           https://suttacentral.net/an8.19/en/bodhi  \n",
       "78                                                     \n",
       "\n",
       "[79 rows x 6 columns]"
      ]
     },
     "execution_count": 152,
     "metadata": {},
     "output_type": "execute_result"
    }
   ],
   "source": [
    "df"
   ]
  },
  {
   "cell_type": "code",
   "execution_count": 154,
   "metadata": {},
   "outputs": [],
   "source": [
    "df.to_excel('suttas_an.xlsx')"
   ]
  },
  {
   "cell_type": "code",
   "execution_count": null,
   "metadata": {},
   "outputs": [],
   "source": []
  }
 ],
 "metadata": {
  "kernelspec": {
   "display_name": "Python 3",
   "language": "python",
   "name": "python3"
  },
  "language_info": {
   "codemirror_mode": {
    "name": "ipython",
    "version": 3
   },
   "file_extension": ".py",
   "mimetype": "text/x-python",
   "name": "python",
   "nbconvert_exporter": "python",
   "pygments_lexer": "ipython3",
   "version": "3.7.7"
  }
 },
 "nbformat": 4,
 "nbformat_minor": 2
}
