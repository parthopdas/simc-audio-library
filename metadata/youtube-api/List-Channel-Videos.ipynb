{
 "cells": [
  {
   "cell_type": "code",
   "execution_count": 35,
   "metadata": {},
   "outputs": [],
   "source": [
    "from glob import glob\n",
    "from time import sleep\n",
    "from os import path\n",
    "from datetime import datetime\n",
    "from dateutil.relativedelta import relativedelta\n",
    "import googleapiclient.discovery\n",
    "import json\n",
    "import os"
   ]
  },
  {
   "cell_type": "code",
   "execution_count": 6,
   "metadata": {},
   "outputs": [],
   "source": [
    "DEVELOPER_KEY = \"KEY\"\n",
    "CHANNEL_YUTT = 'UCQJ6ESCWQotBwtJm0Ff_gyQ'\n",
    "CHANNEL_SIRI = 'UCFVuMJgj2QWlg-6JZ1ye9qA'"
   ]
  },
  {
   "cell_type": "code",
   "execution_count": 7,
   "metadata": {},
   "outputs": [],
   "source": [
    "def yt_search_list(channelId, **kwargs):\n",
    "    # Disable OAuthlib's HTTPS verification when running locally.\n",
    "    # *DO NOT* leave this option enabled in production.\n",
    "    os.environ[\"OAUTHLIB_INSECURE_TRANSPORT\"] = \"1\"\n",
    "\n",
    "    api_service_name = \"youtube\"\n",
    "    api_version = \"v3\"\n",
    "\n",
    "    youtube = googleapiclient.discovery.build(\n",
    "        api_service_name, api_version, developerKey = DEVELOPER_KEY)\n",
    "\n",
    "    request = youtube.search().list(\n",
    "        part=\"snippet\",\n",
    "        channelId=channelId,\n",
    "        order='date',\n",
    "        maxResults=50,\n",
    "        **kwargs\n",
    "    )\n",
    "    response = request.execute()\n",
    "\n",
    "    return response"
   ]
  },
  {
   "cell_type": "code",
   "execution_count": 27,
   "metadata": {},
   "outputs": [
    {
     "name": "stdout",
     "output_type": "stream",
     "text": [
      "{'publishedBefore': '2020-06-09T21:51:56Z', 'publishedAfter': '2019-06-08T21:51:56Z'}\n",
      "{'publishedBefore': '2019-06-09T21:51:56Z', 'publishedAfter': '2018-06-08T21:51:56Z'}\n",
      "{'publishedBefore': '2018-06-09T21:51:56Z', 'publishedAfter': '2017-06-08T21:51:56Z'}\n",
      "Getting page CDIQAA\n",
      "Getting page CGQQAA\n",
      "{'publishedBefore': '2017-06-09T21:51:56Z', 'publishedAfter': '2016-06-08T21:51:56Z'}\n"
     ]
    }
   ],
   "source": [
    "data = []\n",
    "publishedBefore = datetime.utcnow()\n",
    "\n",
    "# chunk by only requesting results for a year to prevent reaching the limit of max. returned pages\n",
    "while True:  \n",
    "    timeArgs = { \n",
    "        'publishedBefore': publishedBefore.isoformat('T')[:19] + 'Z',\n",
    "        'publishedAfter': (publishedBefore - relativedelta(years=1) - relativedelta(days=1)).isoformat('T')[:19] + 'Z'\n",
    "    }\n",
    "\n",
    "    print(timeArgs)\n",
    "    \n",
    "    page = yt_search_list(CHANNEL_SIRI, **timeArgs)\n",
    "\n",
    "    if page['pageInfo']['totalResults'] == 0:\n",
    "        break\n",
    "\n",
    "    data.append(page)\n",
    "\n",
    "    while 'nextPageToken' in page:\n",
    "        print('Getting page', page['nextPageToken'])\n",
    "        \n",
    "        page = yt_search_list(CHANNEL_YUTT, pageToken=page['nextPageToken'], **timeArgs)\n",
    "\n",
    "        data.append(page)\n",
    "        sleep(2)\n",
    "    \n",
    "    publishedBefore -= relativedelta(years=1)\n",
    "    sleep(10)"
   ]
  },
  {
   "cell_type": "code",
   "execution_count": 28,
   "metadata": {},
   "outputs": [],
   "source": [
    "def filter_items(data):\n",
    "    \"\"\" Extract items and remove duplicates \"\"\"\n",
    "    seen = set()\n",
    "    items = []\n",
    "\n",
    "    for page in data:\n",
    "        for item in page['items']:\n",
    "            item_id = str(item['id'])\n",
    "\n",
    "            if not item_id in seen:\n",
    "                items.append(item)\n",
    "                seen.add(item_id)\n",
    "    \n",
    "    return items"
   ]
  },
  {
   "cell_type": "code",
   "execution_count": 29,
   "metadata": {},
   "outputs": [],
   "source": [
    "items = filter_items(data)"
   ]
  },
  {
   "cell_type": "code",
   "execution_count": 30,
   "metadata": {},
   "outputs": [
    {
     "data": {
      "text/plain": [
       "152"
      ]
     },
     "execution_count": 30,
     "metadata": {},
     "output_type": "execute_result"
    }
   ],
   "source": [
    "len(items)"
   ]
  },
  {
   "cell_type": "code",
   "execution_count": 31,
   "metadata": {},
   "outputs": [
    {
     "data": {
      "text/plain": [
       "113"
      ]
     },
     "execution_count": 31,
     "metadata": {},
     "output_type": "execute_result"
    }
   ],
   "source": [
    "# num of videos\n",
    "sum([1 for p in items if p['id']['kind'] == 'youtube#video'])"
   ]
  },
  {
   "cell_type": "code",
   "execution_count": 32,
   "metadata": {},
   "outputs": [
    {
     "data": {
      "text/plain": [
       "39"
      ]
     },
     "execution_count": 32,
     "metadata": {},
     "output_type": "execute_result"
    }
   ],
   "source": [
    "# num of playlists\n",
    "sum([1 for p in items if p['id']['kind'] == 'youtube#playlist'])"
   ]
  },
  {
   "cell_type": "code",
   "execution_count": 33,
   "metadata": {},
   "outputs": [
    {
     "data": {
      "text/plain": [
       "0"
      ]
     },
     "execution_count": 33,
     "metadata": {},
     "output_type": "execute_result"
    }
   ],
   "source": [
    "# num of channel\n",
    "sum([1 for p in items if p['id']['kind'] == 'youtube#channel'])"
   ]
  },
  {
   "cell_type": "code",
   "execution_count": 34,
   "metadata": {},
   "outputs": [],
   "source": [
    "#with open('search_list_siri.json', 'w') as f:\n",
    "#    f.write(json.dumps(items))"
   ]
  }
 ],
 "metadata": {
  "kernelspec": {
   "display_name": "Python 3",
   "language": "python",
   "name": "python3"
  },
  "language_info": {
   "codemirror_mode": {
    "name": "ipython",
    "version": 3
   },
   "file_extension": ".py",
   "mimetype": "text/x-python",
   "name": "python",
   "nbconvert_exporter": "python",
   "pygments_lexer": "ipython3",
   "version": "3.7.7"
  }
 },
 "nbformat": 4,
 "nbformat_minor": 2
}
