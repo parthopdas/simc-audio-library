{
 "cells": [
  {
   "cell_type": "code",
   "execution_count": 16,
   "metadata": {},
   "outputs": [],
   "source": [
    "import json\n",
    "import re\n",
    "from glob import glob\n",
    "from datetime import timedelta"
   ]
  },
  {
   "cell_type": "code",
   "execution_count": 2,
   "metadata": {},
   "outputs": [],
   "source": [
    "def clean_text(text):\n",
    "    cleaned = text\n",
    "    cleaned = text.replace('\\n', ' ')\n",
    "    cleaned = re.sub(r'\\s+', ' ', cleaned)\n",
    "    cleaned = cleaned.strip()\n",
    "    \n",
    "    cleaned = re.sub(r'^Question', '', cleaned, re.I)\n",
    "    cleaned = re.sub(r'sirimangalo\\.org$', '', cleaned, re.I)\n",
    "    \n",
    "    cleaned = cleaned.replace('|', 'I')\n",
    "    \n",
    "    return cleaned.strip()"
   ]
  },
  {
   "cell_type": "code",
   "execution_count": 13,
   "metadata": {},
   "outputs": [],
   "source": [
    "def format_pos(secs):\n",
    "    return re.sub(r'^0\\:', '', str(timedelta(seconds=secs)))"
   ]
  },
  {
   "cell_type": "code",
   "execution_count": 18,
   "metadata": {},
   "outputs": [
    {
     "name": "stdout",
     "output_type": "stream",
     "text": [
      "./videos/Meditation Q&A - June 3rd 2020-06FnA9TdJ_c.mp4.transc.txt\n",
      "00:00 Start\n",
      "02:24 Bhante, sometimes, during Sattipathana, when I have an angry though towards someone I Interrupt the meditation for about 20 or 30 seconds to do metta for the person, is that acceptable?\n",
      "04:44 I currently find myself in the Dukka-Nanas and am struggling to push through and continue my meditation. Any advice?\n",
      "07:47 When noting the rising, falling and sitting, should I note sitting for the duration of a rising and falling?\n",
      "08:13 Bhante, should we meditators practice physical exercise? I'm asking because physical exercise may give us a longer lifespan and therefore we would be able to practice more during this life time\n",
      "10:07 how to deal with bullying\n",
      "19:18 Is it reasonable/possible for a person with a typical 9-5 desk job and a family (wife, kids, etc) to become an effective meditator?\n",
      "21:00 is meditation while sitting in a chair acceptable or should i be cross legged on a cushion.\n",
      "22:06 Is it healthy to meditate instead of sleep?\n",
      "22:35 When noting the words appear in my mind, should I note 'seeing'? When I tried noting in another language, the words didn't appear that often. Does it matter what language used for noting?\n",
      "23:59 How can one gain enough personal restraint to follow the five precepts?\n",
      "26:27 Does metta meditation only benefit the meditator or does It also benefit the people the meditator is directing the meditation to?\n",
      "27:39 Does buddhism consider that we have an individual nature and drive in life?\n",
      "28:27 Does indulging in caffeinated drinks break the 5th precept?\n",
      "32:15 Does veganism help with better quality meditation?\n",
      "33:38 can explain the difference between mindfulness, vipassana, and satipatana in regards to meditation?\n",
      "34:40 How do you get over pins and needles? Do you examine the experience and processes? Or just stand up?\n",
      "35:47 How can i get into meditation? and how long would you recommend meditating every ore Nag\n",
      "36:50 I have been blessed with the opportunity to have the time to sit and study the dharma for 8 hours a day. How should I breakup my time between study, meditation, and other practice?\n",
      "39:56 You've said the noting of an experience occurs after the experience. During walking meditation why do I find the movement of the foot and the noting occur Ssimultaneously?Some guidance please.\n",
      "40:20 You've said the noting of an experience occurs after the experience. During walking meditation why do I find the movement of the foot and the noting occur simultaneously? Some guidance please.\n",
      "42:21 what's your message to people living in the world during these times, and what change do you think is coming, and what are the challenges we might face in the future?\n",
      "45:26 If metta is universal then wouldn’t We be less prejudiced..and have compassion for animals, and plants and therefore become vegan?\n",
      "47:10 Do I run the risk of forgetting passwords, PIN numbers, etc. (wordly things in general) because of meditating regularly?\n",
      "47:47 Are we buddhist meditators likely to be born in a very good place/state in our next lives if we don't become arahants tn this life time?\n",
      "50:42 Did Buddha study? Or just experiment and meditate? And if he just meditated, then can we come to the same conclusion and theories as Buddha without study?\n",
      "52:00 Can somebody feel sudden happy and empty minded feelings after meditating for a couple of years?\n",
      "52:48 why is Atheism incorrect and Rebirth is correct?\n",
      "53:19 can you clarify what it meanas to have compassion towards others\n",
      "55:15 When our body dies, are we Immediately reborn in the exact Same state of mind or jhana As we left the body?\n",
      "56:24 What ts your definition of good, why ts it preferable to bad. Surely an enlightened mind does not make a judgment of the yin yang of reality.\n"
     ]
    }
   ],
   "source": [
    "for file in glob('./videos/*.txt'):\n",
    "    print(file)\n",
    "    with open(file) as f:\n",
    "        texts = json.loads(f.read())\n",
    "        \n",
    "    print('00:00 Start')\n",
    "    for t, text in texts:\n",
    "        print(format_pos(t), clean_text(text))"
   ]
  }
 ],
 "metadata": {
  "kernelspec": {
   "display_name": "Python 3",
   "language": "python",
   "name": "python3"
  },
  "language_info": {
   "codemirror_mode": {
    "name": "ipython",
    "version": 3
   },
   "file_extension": ".py",
   "mimetype": "text/x-python",
   "name": "python",
   "nbconvert_exporter": "python",
   "pygments_lexer": "ipython3",
   "version": "3.7.8"
  }
 },
 "nbformat": 4,
 "nbformat_minor": 2
}
