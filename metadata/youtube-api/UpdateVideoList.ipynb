{
 "cells": [
  {
   "cell_type": "code",
   "execution_count": 123,
   "metadata": {},
   "outputs": [],
   "source": [
    "from time import sleep\n",
    "from os import path\n",
    "import googleapiclient.discovery\n",
    "import json\n",
    "import os"
   ]
  },
  {
   "cell_type": "code",
   "execution_count": 124,
   "metadata": {},
   "outputs": [],
   "source": [
    "CHANNEL_YUTT = 'UCQJ6ESCWQotBwtJm0Ff_gyQ'\n",
    "DEVELOPER_KEY = 'KEY'"
   ]
  },
  {
   "cell_type": "code",
   "execution_count": 125,
   "metadata": {},
   "outputs": [],
   "source": [
    "def yt_search_list(channelId, **kwargs):\n",
    "    # Disable OAuthlib's HTTPS verification when running locally.\n",
    "    # *DO NOT* leave this option enabled in production.\n",
    "    os.environ[\"OAUTHLIB_INSECURE_TRANSPORT\"] = \"1\"\n",
    "\n",
    "    api_service_name = \"youtube\"\n",
    "    api_version = \"v3\"\n",
    "\n",
    "    youtube = googleapiclient.discovery.build(\n",
    "        api_service_name, api_version, developerKey = DEVELOPER_KEY)\n",
    "\n",
    "    request = youtube.search().list(\n",
    "        part=\"snippet\",\n",
    "        channelId=channelId,\n",
    "        order='date',\n",
    "        maxResults=50,\n",
    "        **kwargs\n",
    "    )\n",
    "    response = request.execute()\n",
    "\n",
    "    return response"
   ]
  },
  {
   "cell_type": "code",
   "execution_count": 126,
   "metadata": {},
   "outputs": [],
   "source": [
    "def yt_videos_list(ids):\n",
    "    # Disable OAuthlib's HTTPS verification when running locally.\n",
    "    # *DO NOT* leave this option enabled in production.\n",
    "    os.environ[\"OAUTHLIB_INSECURE_TRANSPORT\"] = \"1\"\n",
    "\n",
    "    api_service_name = \"youtube\"\n",
    "    api_version = \"v3\"\n",
    "\n",
    "    youtube = googleapiclient.discovery.build(\n",
    "        api_service_name, api_version, developerKey = DEVELOPER_KEY)\n",
    "\n",
    "    request = youtube.videos().list(\n",
    "        part=\"snippet,contentDetails,topicDetails,statistics,liveStreamingDetails\",\n",
    "        maxResults=50,\n",
    "        id=ids\n",
    "    )\n",
    "    response = request.execute()\n",
    "    \n",
    "    return response"
   ]
  },
  {
   "cell_type": "code",
   "execution_count": 127,
   "metadata": {},
   "outputs": [],
   "source": [
    "with open('./videos_list_yutt.json') as f:\n",
    "    videos_list_yutt = sorted(json.loads(f.read()), key=lambda x: x['snippet']['publishedAt'], reverse=True)"
   ]
  },
  {
   "cell_type": "code",
   "execution_count": 128,
   "metadata": {},
   "outputs": [],
   "source": [
    "new_videos = yt_search_list(CHANNEL_YUTT, publishedAfter=search_list_yutt[0]['snippet']['publishedAt'])\n",
    "assert new_videos['pageInfo']['totalResults'] <= 50"
   ]
  },
  {
   "cell_type": "code",
   "execution_count": 129,
   "metadata": {},
   "outputs": [],
   "source": [
    "video_ids = set([v['id'] for v in videos_list_yutt if v['kind'] == 'youtube#video'])\n",
    "new_video_ids = [v['id']['videoId'] for v in new_videos['items'] if not (v['id']['kind'] == 'youtube#video' and v['id']['videoId'] in video_ids)]"
   ]
  },
  {
   "cell_type": "code",
   "execution_count": 130,
   "metadata": {},
   "outputs": [],
   "source": [
    "new_video_list = yt_videos_list(','.join(new_video_ids))\n",
    "videos_list_yutt_updated = new_video_infos['items'] + videos_list_yutt\n",
    "assert set([v['id'] for v in videos_list_yutt_updated if v['kind'] == 'youtube#video']) == (set(new_video_ids).union(video_ids))"
   ]
  },
  {
   "cell_type": "code",
   "execution_count": 134,
   "metadata": {},
   "outputs": [],
   "source": [
    "with open('./videos_list_yutt.json', 'w') as f:\n",
    "    f.write(json.dumps(videos_list_yutt_updated, indent=2))"
   ]
  }
 ],
 "metadata": {
  "kernelspec": {
   "display_name": "Python 3",
   "language": "python",
   "name": "python3"
  },
  "language_info": {
   "codemirror_mode": {
    "name": "ipython",
    "version": 3
   },
   "file_extension": ".py",
   "mimetype": "text/x-python",
   "name": "python",
   "nbconvert_exporter": "python",
   "pygments_lexer": "ipython3",
   "version": "3.7.7"
  }
 },
 "nbformat": 4,
 "nbformat_minor": 2
}
