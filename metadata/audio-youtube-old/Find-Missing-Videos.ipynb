{
 "cells": [
  {
   "cell_type": "code",
   "execution_count": 23,
   "metadata": {},
   "outputs": [],
   "source": [
    "import json\n",
    "import pandas as pd\n",
    "from collections import defaultdict\n",
    "from glob import glob\n",
    "from os import path\n",
    "from datetime import datetime"
   ]
  },
  {
   "cell_type": "code",
   "execution_count": 38,
   "metadata": {},
   "outputs": [],
   "source": [
    "FILES_DIR = '<DIR>' # directory with ogg files from archive (files from Bond)"
   ]
  },
  {
   "cell_type": "code",
   "execution_count": 25,
   "metadata": {},
   "outputs": [],
   "source": [
    "ogg_files = glob(path.join(FILES_DIR, 'files/*'))"
   ]
  },
  {
   "cell_type": "code",
   "execution_count": 26,
   "metadata": {},
   "outputs": [],
   "source": [
    "files = [path.basename(x) for x in ogg_files]"
   ]
  },
  {
   "cell_type": "code",
   "execution_count": 27,
   "metadata": {},
   "outputs": [],
   "source": [
    "with open('../youtube-api/videos_list_yutt.json') as f:\n",
    "    videos_list_yutt = json.loads(f.read())"
   ]
  },
  {
   "cell_type": "code",
   "execution_count": 28,
   "metadata": {},
   "outputs": [],
   "source": [
    "manual_mapping = {\n",
    "    '20170930_The \\'Ball of Honey\\' Discourse - Madhupindika Sutta (MN 18).ogg': 'https://youtu.be/nlSpMukrJzs',\n",
    "    '20111111_Ask A Monk - Meditating 24_7.ogg': 'https://youtu.be/AA8tL9eTUxE',\n",
    "    '20110806_Dhammapada Verse One - Mind Precedes All Things.ogg': 'https://youtu.be/lZZiE-EofAE',\n",
    "    '20100809_Ask A Monk - \\'That Place Inside\\' and Issues from Childhood.ogg': 'https://youtu.be/e4I_Nx5vDmY',\n",
    "    '20100803_Ask A Monk - Meaning of \\'Mindfulness\\' and \\'Clear Thought\\'.ogg': 'https://youtu.be/zAEubYyR43g',\n",
    "    '20100726_LIAD - 9_30 PM - Ask A Monk.ogg': 'https://youtu.be/OyMWmLAFtJQ',\n",
    "    '20100726_LIAD - 10_30 AM - Alms Round 51 of 66.ogg': 'https://youtu.be/KF0FFBjGVlw',\n",
    "    '20100725_LIAD - 10_30 AM Almsround 54 of 66.ogg': 'https://youtu.be/M_O7rZ3MSNQ',\n",
    "    '20100725_LIAD - 10_30 AM Almsround 25 of 66.ogg': 'https://youtu.be/t_XP_xbs_ig',\n",
    "    '20100725_LIAD - 10_30 AM - Almsround 8 of 66.ogg': 'https://youtu.be/oYsdWxsZ8Fc',\n",
    "    '20100725_LIAD - 10_30 AM - Almsround 4 of 66.ogg': 'https://youtu.be/q-sfslbV_OI',\n",
    "    '20100725_LIAD - 10_30 AM - Almsround 12 of 66.ogg': 'https://youtu.be/lO8w4Zn_MI0',\n",
    "    '20100724_LIAD - 4_30 AM - Chanting 1 of 2.ogg': 'https://youtu.be/zU33ID0PBlc',\n",
    "    '20100726_LIAD - 10_30 AM - Alms Round 15 of 66.ogg': 'https://youtu.be/9mc666t8S90',\n",
    "    '20100725_LIAD - 10_30 AM Almsround 59 of 66.ogg': 'https://youtu.be/egN4M78T8og',\n",
    "    '20100725_LIAD - 10_30 AM Almsround 57 of 66.ogg': 'https://youtu.be/0q7mv_avQwo',\n",
    "    '20100502_Free \\'How To Meditate\\' Two-DVD set.ogg': 'https://youtu.be/2HiktzLcODw'\n",
    "}"
   ]
  },
  {
   "cell_type": "code",
   "execution_count": 29,
   "metadata": {},
   "outputs": [],
   "source": [
    "found = set()\n",
    "canditates = defaultdict(list)\n",
    "\n",
    "for file in files:\n",
    "    dt_file = datetime.strptime(file[:8], \"%Y%m%d\")\n",
    "    name = file[9:-4]\n",
    "    \n",
    "    if file in manual_mapping:\n",
    "        found.add(file)\n",
    "        continue\n",
    "\n",
    "    for video in videos_list_yutt:\n",
    "        dt = datetime.strptime(video['snippet']['publishedAt'][:10], \"%Y-%m-%d\")\n",
    "        \n",
    "        dt_diff = (dt_file - dt).days\n",
    "        \n",
    "        if abs(dt_diff) > 1:\n",
    "            continue\n",
    "            \n",
    "        canditates[file].append(video)\n",
    "        \n",
    "        if video['snippet']['title'].replace('?', '') in [name, name.replace(' -', ':', 1).replace('_', ' ')]:\n",
    "            found.add(file)\n",
    "            \n",
    "            if file in canditates:\n",
    "                del canditates[file]\n",
    "            \n",
    "            break"
   ]
  },
  {
   "cell_type": "code",
   "execution_count": 30,
   "metadata": {},
   "outputs": [],
   "source": [
    "not_found = set(files) - found\n",
    "not_found = sorted(not_found)[::-1]"
   ]
  },
  {
   "cell_type": "code",
   "execution_count": 31,
   "metadata": {},
   "outputs": [
    {
     "data": {
      "text/plain": [
       "91"
      ]
     },
     "execution_count": 31,
     "metadata": {},
     "output_type": "execute_result"
    }
   ],
   "source": [
    "len(not_found)"
   ]
  },
  {
   "cell_type": "code",
   "execution_count": 32,
   "metadata": {},
   "outputs": [],
   "source": [
    "with open('files_not_found.json', 'w') as f:\n",
    "    f.write(json.dumps(not_found))"
   ]
  },
  {
   "cell_type": "code",
   "execution_count": 41,
   "metadata": {},
   "outputs": [],
   "source": [
    "pd.DataFrame(not_found).to_excel('files_not_found.xlsx')"
   ]
  },
  {
   "cell_type": "code",
   "execution_count": 34,
   "metadata": {},
   "outputs": [],
   "source": [
    "#canditate_list = []\n",
    "\n",
    "#for file in not_found:\n",
    "#    if not file in canditates:\n",
    "#        canditate_list.append({\n",
    "#            'filename': file\n",
    "#        })\n",
    "#    else:\n",
    "#        for video in canditates[file]:\n",
    "#            canditate_list.append({\n",
    "#                'filename': file,\n",
    "#                'candidateTitle': video['snippet']['title'],\n",
    "#                'candidateLink': 'https://youtu.be/' + video['id']\n",
    "#            })\n",
    "#df = pd.DataFrame(canditate_list)\n",
    "#df.to_excel('not_found_candidates.xlsx')"
   ]
  },
  {
   "cell_type": "code",
   "execution_count": 35,
   "metadata": {},
   "outputs": [],
   "source": [
    "#import subprocess\n",
    "#import shlex\n",
    "#import re\n",
    "#import isodate\n",
    "#from datetime import timedelta"
   ]
  },
  {
   "cell_type": "code",
   "execution_count": 36,
   "metadata": {},
   "outputs": [],
   "source": [
    "#def get_ogg_lenght(file):\n",
    "#    ffprobe = subprocess.check_output('ffprobe ' + shlex.quote(file), stderr=subprocess.STDOUT, shell=True)\n",
    "#    duration = re.search(r'Duration: ([^,]+)', str(ffprobe)).group(1)\n",
    "#    return timedelta(hours=int(duration[:2]), minutes=int(duration[3:5]), seconds=int(float(duration[6:])))"
   ]
  },
  {
   "cell_type": "code",
   "execution_count": 39,
   "metadata": {},
   "outputs": [],
   "source": [
    "#candidates = defaultdict(list)\n",
    "#canditate_list = []\n",
    "\n",
    "#for file in not_found:\n",
    "#    duration_file = get_ogg_lenght(path.join('<DIR>', file))\n",
    "#    \n",
    "#    for video in videos_list_yutt:\n",
    "#       duration = isodate.parse_duration(video['contentDetails']['duration'])\n",
    "#        \n",
    "#        diff = duration - duration_file if duration >= duration_file else duration_file - duration\n",
    "#        \n",
    "#        if diff < timedelta(seconds=3):\n",
    "#            canditate_list.append({\n",
    "#                'filename': file,\n",
    "#                'candidateTitle': video['snippet']['title'],\n",
    "#                'candidateDate': video['snippet']['publishedAt'],\n",
    "#                'candidateLink': 'https://youtu.be/' + video['id']\n",
    "#            })\n",
    "#            candidates[file].append(video)\n",
    "#pd.DataFrame(canditate_list).to_excel('test.xlsx')"
   ]
  }
 ],
 "metadata": {
  "kernelspec": {
   "display_name": "Python 3",
   "language": "python",
   "name": "python3"
  },
  "language_info": {
   "codemirror_mode": {
    "name": "ipython",
    "version": 3
   },
   "file_extension": ".py",
   "mimetype": "text/x-python",
   "name": "python",
   "nbconvert_exporter": "python",
   "pygments_lexer": "ipython3",
   "version": "3.7.7"
  }
 },
 "nbformat": 4,
 "nbformat_minor": 2
}
