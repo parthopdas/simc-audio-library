{
 "cells": [
  {
   "cell_type": "code",
   "execution_count": 64,
   "metadata": {},
   "outputs": [],
   "source": [
    "import pandas as pd\n",
    "import json\n",
    "import re\n",
    "import isodate\n",
    "import requests\n",
    "from time import sleep\n",
    "from dateutil import parser\n",
    "from email import utils\n",
    "from datetime import datetime\n",
    "from rfeed import Item, Feed, iTunesItem, Guid, Enclosure\n",
    "from collections import defaultdict\n",
    "from more_itertools import unique_everseen"
   ]
  },
  {
   "cell_type": "code",
   "execution_count": 5,
   "metadata": {},
   "outputs": [],
   "source": [
    "with open('../../metadata/youtube-api/videos_list_yutt.json') as f:\n",
    "    videos_list_yutt = json.loads(f.read())"
   ]
  },
  {
   "cell_type": "code",
   "execution_count": 6,
   "metadata": {},
   "outputs": [],
   "source": [
    "videos = [v for v in videos_list_yutt if 'Dhammapada' in v['snippet']['title']]\n",
    "titles = [v['snippet']['title'] for v in videos]"
   ]
  },
  {
   "cell_type": "code",
   "execution_count": 7,
   "metadata": {},
   "outputs": [],
   "source": [
    "numbers = []\n",
    "mapping = {}\n",
    "replacements = {\n",
    "    'Dhammapada 1: ': 'Dhammapada Verse 1:',\n",
    "    'Dhammapada Verse Two': 'Dhammapada Verse 2',\n",
    "    'Dhammapada Verses Three and Four': 'Dhammapada Verses 3 & 4',\n",
    "    'Dhammapada Verse Five': 'Dhammapada Verse 5',\n",
    "    'Dhammapada Verse Six': 'Dhammapada Verse 6',\n",
    "    'Dhammapada Verses Seven & Eight': 'Dhammapada Verses 7 & 8',\n",
    "    'Dhammapada Verses Nine and Ten': 'Dhammapada Verses 9 & 10'\n",
    "}\n",
    "\n",
    "titles\n",
    "\n",
    "for i, title in enumerate(titles):\n",
    "    for old_title, new_title in replacements.items():\n",
    "        if title.startswith(old_title):\n",
    "            title = title.replace(old_title, new_title)\n",
    "            videos[i]['snippet']['title'] = title\n",
    "            break\n",
    "\n",
    "    m = re.findall(r'([0-9]+)', title)\n",
    "\n",
    "    new_numbers = []\n",
    "    if len(m) == 3:\n",
    "        new_numbers = [int(x) for x in m]\n",
    "    elif len(m) == 2:\n",
    "        new_numbers = list(range(int(m[0]), int(m[1]) + 1))\n",
    "    elif len(m) == 1:\n",
    "        new_numbers = [int(m[0])]\n",
    "    \n",
    "    numbers += new_numbers\n",
    "    \n",
    "    for n in new_numbers:\n",
    "        mapping[n] = videos[i]"
   ]
  },
  {
   "cell_type": "code",
   "execution_count": 8,
   "metadata": {},
   "outputs": [
    {
     "data": {
      "text/plain": [
       "[]"
      ]
     },
     "execution_count": 8,
     "metadata": {},
     "output_type": "execute_result"
    }
   ],
   "source": [
    "[x for x in range(1, 224) if not x in numbers] # written numbers missing"
   ]
  },
  {
   "cell_type": "code",
   "execution_count": 9,
   "metadata": {},
   "outputs": [],
   "source": [
    "with open('verses.txt') as f:\n",
    "    verses = f.read().split('\\n---\\n')"
   ]
  },
  {
   "cell_type": "code",
   "execution_count": 10,
   "metadata": {},
   "outputs": [],
   "source": [
    "exceptions = [207, 210, 198, 189, 190, 191, 184, 138, 139, 88]\n",
    "\n",
    "for verse in verses:\n",
    "    for num in [int(n) for n in re.findall(r'[0-9]+', verse)]:\n",
    "        assert (num in exceptions or str(num) in mapping[num]['snippet']['title'])\n",
    "        \n",
    "last_nums = [227] # greatest number + 1\n",
    "for i, verse in enumerate(verses):\n",
    "    nums = sorted([int(n) for n in re.findall(r'[0-9]+', verse)])\n",
    "    for num in nums:\n",
    "        assert (num in exceptions or str(num) in videos[i]['snippet']['title'])\n",
    "    \n",
    "    if (set(nums) - set(exceptions)) != set():\n",
    "        # check order\n",
    "        assert nums[0] < last_nums[0]\n",
    "    \n",
    "    last_nums = nums"
   ]
  },
  {
   "cell_type": "code",
   "execution_count": 11,
   "metadata": {},
   "outputs": [],
   "source": [
    "df = pd.read_json('../../metadata/subtitles/top_keywords_from_subtitles.json')\n",
    "keywords = { row.link: row.keywords for row in df.itertuples() }"
   ]
  },
  {
   "cell_type": "code",
   "execution_count": 103,
   "metadata": {},
   "outputs": [],
   "source": [
    "def create_desc(verse, verse_english, video, chapter):\n",
    "    verse = '<br>'.join(verse.split('\\n'))\n",
    "    template = \"\"\"<![CDATA[<p>Dhammapada verse in Pali:</p>\n",
    "<p>%s</p>\n",
    "<p>A series on the Dhammapada, a set of 423 verse teachings given by the Buddha, including explanation of the Pali verse, a synopsis of the background story and application of the teaching to our practice by Yuttadhammo Bhikkhu.</p>\n",
    "<p>Yuttadhammo Bhikkhu is a Canadian-born Theravada Buddhist monk, ordained in 2001 under the guidance of Venerable Ajaan Tong Sirimangalo. He has taught meditation courses in the Mahasi Sayadaw tradition since 2003 and gives online teachings via YouTube, as well as Dhamma talks to both intensive meditators and by invitation to the general public.</p>\n",
    "<br>\n",
    "<p>Original Youtube Video: <a href=\"%s\" target=\"_blank\">%s</a></p>\n",
    "<p>Our podcasts: <a href=\" https://podcast.sirimangalo.org/\" target=\"_blank\"> https://podcast.sirimangalo.org/</a></p>\n",
    "<p>How To Meditate Booklet: <a href=\" https://htm.sirimangalo.org/\" target=\"_blank\"> https://htm.sirimangalo.org/</a></p>\n",
    "<p>To join our meditation community and sign up for an at-home meditation course, please visit <a href=\"https://meditation.sirimangalo.org/\" target=\"_blank\">https://meditation.sirimangalo.org/</a></p>\n",
    "<p>Our Website: <a href=\"https://www.sirimangalo.org/\" target=\"_blank\">https://www.sirimangalo.org/</a></p>\n",
    "<p>Supporting This Work: <a href=\"https://www.sirimangalo.org/support\" target=\"_blank\">https://www.sirimangalo.org/support</a></p>\n",
    "<p>Keywords: Buddhism, Dhamma, Buddha, Monk, Bhikkhu, Sirimangalo, Yuttadhammo, Tipitaka, Pali, %s</p>]]>\n",
    "\"\"\" % (verse, video, video, chapter)\n",
    "    return template"
   ]
  },
  {
   "cell_type": "code",
   "execution_count": 104,
   "metadata": {},
   "outputs": [],
   "source": [
    "def create_summary(translated_verse):\n",
    "    return \"%s (Translated by Acharya Buddharakkhita)\" % (translated_verse)"
   ]
  },
  {
   "cell_type": "code",
   "execution_count": 105,
   "metadata": {},
   "outputs": [],
   "source": [
    "files_sizes = {}\n",
    "with open('file-sizes.json') as f:\n",
    "    files_sizes = json.loads(f.read())\n",
    "    \n",
    "#for v in videos:\n",
    "#    audioUrl = 'https://almedia.blob.core.windows.net/audio/%s.mp3' % v['id']\n",
    "#    \n",
    "#    try:\n",
    "#        files_sizes[v['id']] = int(requests.head(audioUrl).headers['Content-Length'])\n",
    "#    except:\n",
    "#        print('Error', v['id'])\n",
    "#    \n",
    "#    sleep(0.5)\n",
    "#\n",
    "#with open('file-sizes.json', 'w') as f:\n",
    "#    f.write(json.dumps(files_sizes))"
   ]
  },
  {
   "cell_type": "code",
   "execution_count": 106,
   "metadata": {},
   "outputs": [],
   "source": [
    "with open('verses_english.json') as f:\n",
    "    dhp_english = json.loads(f.read())"
   ]
  },
  {
   "cell_type": "code",
   "execution_count": 107,
   "metadata": {},
   "outputs": [],
   "source": [
    "verses_english = []\n",
    "\n",
    "for v in verses:\n",
    "    nums = []\n",
    "    \n",
    "    for line in v.split('\\n'):\n",
    "        temp = line.strip().replace('.', '')\n",
    "\n",
    "        if re.match(r'^[0-9]+$', temp):\n",
    "            nums.append(int(temp))\n",
    "    \n",
    "    translation = ''\n",
    "    \n",
    "    for i in nums:\n",
    "        translation += 'Verse %i:' % i\n",
    "        translation += '\\n\\n'\n",
    "        translation += dhp_english[str(i)]\n",
    "        translation += '\\n\\n'\n",
    "\n",
    "    verses_english.append(translation)"
   ]
  },
  {
   "cell_type": "code",
   "execution_count": 108,
   "metadata": {},
   "outputs": [],
   "source": [
    "with open('chapters.txt') as f:\n",
    "    chapters = [x for x in f.read().split('\\n') if len(x) > 0]\n",
    "    \n",
    "chapters = chapters[::-1]"
   ]
  },
  {
   "cell_type": "code",
   "execution_count": 109,
   "metadata": {},
   "outputs": [],
   "source": [
    "items = []\n",
    "audio_metadata = {}\n",
    "\n",
    "unique_chapters = list(unique_everseen(chapters))\n",
    "current_episode = defaultdict(int)\n",
    "\n",
    "for i in range(len(videos)):\n",
    "    video = videos[::-1][i]\n",
    "    verse = verses[::-1][i]\n",
    "    verse_english = verses_english[::-1][i]\n",
    "    chapter = chapters[i]\n",
    "\n",
    "    # episode = len(videos) - i\n",
    "    title = video['snippet']['title'].replace('&', '&amp;')\n",
    "    link = 'https://youtu.be/' + video['id']\n",
    "    tags = 'None' if not link in keywords else keywords[link]\n",
    "    tags = tags.split(',')[:5]\n",
    "    duration = isodate.parse_duration(video['contentDetails']['duration']).seconds\n",
    "    pubDate = utils.format_datetime(parser.parse(video['snippet']['publishedAt']))\n",
    "    guid = video['id']\n",
    "    audioUrl = 'https://almedia.blob.core.windows.net/audio/%s.mp3' % video['id']\n",
    "    audioType = 'audio/mpeg'\n",
    "    audioFileSize = files_sizes[guid] if guid in files_sizes else 0\n",
    "    subtitle = '%s from the Chapter \"%s\"' % (title.split(':')[0], chapter)\n",
    "    content_encoded = create_desc(verse, verse_english, link, chapter)\n",
    "    summary = create_summary(verse_english)\n",
    "    categories = [\"Buddhism\", \"Dhamma\", \"Buddha\", \"Monk\", \"Bhikkhu\", \"Sirimangalo\", \"Yuttadhammo\", \"Tipitaka\", \"Pali\", chapter]\n",
    "    season = unique_chapters.index(chapter) + 1\n",
    "    current_episode[season] += 1\n",
    "    episode = current_episode[season]\n",
    "    \n",
    "    items.append({\n",
    "        'guid': guid,\n",
    "        'title': title,\n",
    "        'subtitle': subtitle,\n",
    "        'contentEncoded': content_encoded,\n",
    "        'description': summary,\n",
    "        'pubDate': pubDate,\n",
    "        'duration': duration,\n",
    "        'audioUrl': audioUrl,\n",
    "        'audioType': audioType,\n",
    "        'audioSize': audioFileSize,\n",
    "        'duration': duration,\n",
    "        'categories': categories,\n",
    "        'episode': episode,\n",
    "        'season': season\n",
    "    })\n",
    "    \n",
    "    audio_metadata[audioUrl] = {\n",
    "        'guid': videos[i]['id'],\n",
    "        'duration': duration,\n",
    "        'type': audioType,\n",
    "        'size': audioFileSize\n",
    "    }\n",
    "\n",
    "\n",
    "items = items[::-1]"
   ]
  },
  {
   "cell_type": "code",
   "execution_count": 110,
   "metadata": {},
   "outputs": [],
   "source": [
    "with open('dhammapada-items.json', 'w') as f:\n",
    "    f.write(json.dumps(items, indent=2))"
   ]
  },
  {
   "cell_type": "code",
   "execution_count": 111,
   "metadata": {},
   "outputs": [],
   "source": [
    "with open('audio_metadata.json', 'w') as f:\n",
    "    f.write(json.dumps(audio_metadata, indent=2))"
   ]
  },
  {
   "cell_type": "code",
   "execution_count": 112,
   "metadata": {},
   "outputs": [],
   "source": [
    "description = \"\"\"\n",
    "<![CDATA[\n",
    "<p>A series on the Dhammapada, a set of 423 verse teachings given by the Buddha, including explanation of the Pali verse, a synopsis of the background story and application of the teaching to our practice by Yuttadhammo Bhikkhu.</p>\n",
    "<p>Yuttadhammo Bhikkhu is a Canadian-born Theravada Buddhist monk, ordained in 2001 under the guidance of Venerable Ajaan Tong Sirimangalo. He has taught meditation courses in the Mahasi Sayadaw tradition since 2003 and gives online teachings via YouTube, as well as Dhamma talks to both intensive meditators and by invitation to the general public.</p>\n",
    "<br>\n",
    "<p>How To Meditate Booklet: <a href=\" https://htm.sirimangalo.org/\" target=\"_blank\"> https://htm.sirimangalo.org/</a></p>\n",
    "<p>To join our meditation community and sign up for an at-home meditation course, please visit <a href=\"https://meditation.sirimangalo.org/\" target=\"_blank\">https://meditation.sirimangalo.org/</a></p>\n",
    "<p>Our Website: <a href=\"https://www.sirimangalo.org/\" target=\"_blank\">https://www.sirimangalo.org/</a></p>\n",
    "<p>Supporting This Work: <a href=\"https://www.sirimangalo.org/support\" target=\"_blank\">https://www.sirimangalo.org/support</a></p>\n",
    "<p>YouTube: <a href=\"https://www.youtube.com/yuttadhammo\" target=\"_blank\">https://www.youtube.com/yuttadhammo</a></p>\n",
    "<p>Keywords: Buddhism, Dhamma, Buddha, Monk, Bhikkhu, Sirimangalo, Yuttadhammo, Tipitaka, Pali</p>\n",
    "]]>\n",
    "\"\"\"\n",
    "channel = {\n",
    "    \"lastBuildDate\": utils.format_datetime(datetime.now()),\n",
    "    \"ownerName\": \"Sirimangalo International\",\n",
    "    \"ownerEmail\": \"podcast@sirimangalo.org\",\n",
    "    \"link\": \"https://podcast.sirimangalo.org/dhammapada/\",\n",
    "    \"atomLink\": \"https://podcast.sirimangalo.org/dhammapada/rss.xml\",\n",
    "    \"title\": \"Dhammapada\",\n",
    "    \"description\": description,\n",
    "    \"subtitle\": \"A series on the Dhammapada\",\n",
    "    \"imageUrl\": \"fd\",\n",
    "    \"category\": \"Religion &amp; Spirituality\",\n",
    "    \"subcategory\": \"Buddhism\",\n",
    "    \"author\": \"Yuttadhammo Bhikkhu\",\n",
    "    \"language\": \"en\",\n",
    "    \"type\": \"serial\",\n",
    "    \"complete\": \"No\",\n",
    "    \"episodes\": items\n",
    "}"
   ]
  },
  {
   "cell_type": "code",
   "execution_count": 113,
   "metadata": {},
   "outputs": [],
   "source": [
    "with open('dhammapada-channel.json', 'w') as f:\n",
    "    f.write(json.dumps(channel, indent=2))"
   ]
  },
  {
   "cell_type": "code",
   "execution_count": 114,
   "metadata": {},
   "outputs": [],
   "source": [
    "#pd.DataFrame(items)[['title', 'description', 'audioUrl', 'audioFileSize', 'audioType', 'duration', 'guid', 'pubDateS', 'pubDateHour', 'pubDateMin', 'categories']].to_excel('test123.xlsx')"
   ]
  },
  {
   "cell_type": "code",
   "execution_count": 25,
   "metadata": {},
   "outputs": [],
   "source": [
    "#feed = Feed(\n",
    "#    title = \"Sample RSS Feed\",\n",
    "#    link = \"http://www.example.com/rss\",\n",
    "#    description = \"This is an example of how to use rfeed to generate an RSS 2.0 feed\",\n",
    "#    language = \"en-US\",\n",
    "#    lastBuildDate = datetime.now(),\n",
    "#    items = items,\n",
    "#)\n",
    "#with open('test-feed.xml', 'w') as f:\n",
    "#    f.write(feed.rss())"
   ]
  }
 ],
 "metadata": {
  "kernelspec": {
   "display_name": "Python 3",
   "language": "python",
   "name": "python3"
  },
  "language_info": {
   "codemirror_mode": {
    "name": "ipython",
    "version": 3
   },
   "file_extension": ".py",
   "mimetype": "text/x-python",
   "name": "python",
   "nbconvert_exporter": "python",
   "pygments_lexer": "ipython3",
   "version": "3.7.7"
  }
 },
 "nbformat": 4,
 "nbformat_minor": 2
}
