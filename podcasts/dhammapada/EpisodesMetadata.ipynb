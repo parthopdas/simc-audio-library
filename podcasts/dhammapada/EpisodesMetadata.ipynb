{
 "cells": [
  {
   "cell_type": "code",
   "execution_count": 1,
   "metadata": {},
   "outputs": [],
   "source": [
    "import pandas as pd\n",
    "import json\n",
    "import re\n",
    "import isodate\n",
    "import requests\n",
    "from time import sleep\n",
    "from dateutil import parser\n",
    "from email import utils\n",
    "from datetime import datetime\n",
    "from rfeed import Item, Feed, iTunesItem, Guid, Enclosure"
   ]
  },
  {
   "cell_type": "code",
   "execution_count": 2,
   "metadata": {},
   "outputs": [],
   "source": [
    "with open('../../metadata/youtube-api/videos_list_yutt.json') as f:\n",
    "    videos_list_yutt = json.loads(f.read())"
   ]
  },
  {
   "cell_type": "code",
   "execution_count": 3,
   "metadata": {},
   "outputs": [],
   "source": [
    "videos = [v for v in videos_list_yutt if 'Dhammapada' in v['snippet']['title']]\n",
    "titles = [v['snippet']['title'] for v in videos]"
   ]
  },
  {
   "cell_type": "code",
   "execution_count": 4,
   "metadata": {},
   "outputs": [],
   "source": [
    "numbers = []\n",
    "mapping = {}\n",
    "replacements = {\n",
    "    'Dhammapada 1: ': 'Dhammapada Verse 1:',\n",
    "    'Dhammapada Verse Two': 'Dhammapada Verse 2',\n",
    "    'Dhammapada Verses Three and Four': 'Dhammapada Verses 3 & 4',\n",
    "    'Dhammapada Verse Five': 'Dhammapada Verse 5',\n",
    "    'Dhammapada Verse Six': 'Dhammapada Verse 6',\n",
    "    'Dhammapada Verses Seven & Eight': 'Dhammapada Verses 7 & 8',\n",
    "    'Dhammapada Verses Nine and Ten': 'Dhammapada Verses 9 & 10'\n",
    "}\n",
    "\n",
    "titles\n",
    "\n",
    "for i, title in enumerate(titles):\n",
    "    for old_title, new_title in replacements.items():\n",
    "        if title.startswith(old_title):\n",
    "            title = title.replace(old_title, new_title)\n",
    "            videos[i]['snippet']['title'] = title\n",
    "            break\n",
    "\n",
    "    m = re.findall(r'([0-9]+)', title)\n",
    "\n",
    "    new_numbers = []\n",
    "    if len(m) == 3:\n",
    "        new_numbers = [int(x) for x in m]\n",
    "    elif len(m) == 2:\n",
    "        new_numbers = list(range(int(m[0]), int(m[1]) + 1))\n",
    "    elif len(m) == 1:\n",
    "        new_numbers = [int(m[0])]\n",
    "    \n",
    "    numbers += new_numbers\n",
    "    \n",
    "    for n in new_numbers:\n",
    "        mapping[n] = videos[i]"
   ]
  },
  {
   "cell_type": "code",
   "execution_count": 5,
   "metadata": {},
   "outputs": [
    {
     "data": {
      "text/plain": [
       "[]"
      ]
     },
     "execution_count": 5,
     "metadata": {},
     "output_type": "execute_result"
    }
   ],
   "source": [
    "[x for x in range(1, 224) if not x in numbers] # written numbers missing"
   ]
  },
  {
   "cell_type": "code",
   "execution_count": 6,
   "metadata": {},
   "outputs": [],
   "source": [
    "with open('verses.txt') as f:\n",
    "    verses = f.read().split('\\n---\\n')"
   ]
  },
  {
   "cell_type": "code",
   "execution_count": 7,
   "metadata": {},
   "outputs": [],
   "source": [
    "exceptions = [207, 210, 198, 189, 190, 191, 184, 138, 139, 88]\n",
    "\n",
    "for verse in verses:\n",
    "    for num in [int(n) for n in re.findall(r'[0-9]+', verse)]:\n",
    "        assert (num in exceptions or str(num) in mapping[num]['snippet']['title'])\n",
    "        \n",
    "last_nums = [227] # greatest number + 1\n",
    "for i, verse in enumerate(verses):\n",
    "    nums = sorted([int(n) for n in re.findall(r'[0-9]+', verse)])\n",
    "    for num in nums:\n",
    "        assert (num in exceptions or str(num) in videos[i]['snippet']['title'])\n",
    "    \n",
    "    if (set(nums) - set(exceptions)) != set():\n",
    "        # check order\n",
    "        assert nums[0] < last_nums[0]\n",
    "    \n",
    "    last_nums = nums"
   ]
  },
  {
   "cell_type": "code",
   "execution_count": 8,
   "metadata": {},
   "outputs": [],
   "source": [
    "df = pd.read_json('../../metadata/subtitles/top_keywords_from_subtitles.json')\n",
    "keywords = { row.link: row.keywords for row in df.itertuples() }"
   ]
  },
  {
   "cell_type": "code",
   "execution_count": 37,
   "metadata": {},
   "outputs": [],
   "source": [
    "def create_desc(verse, verse_english, video, tags):\n",
    "    verse = '<br>'.join(verse.split('\\n'))\n",
    "    template = \"\"\"<![CDATA[%s\n",
    "<br>\n",
    "%s\n",
    "<br>\n",
    "<ul>\n",
    "<li><b>Original YouTube-Video</b>: <a href=\"%s\" target=\"_blank\">%s</a></li>\n",
    "<li><b>For more information on the Dhammapada</b>: <a href=\"http://www.buddhanet.net/e-learning/buddhism/dhammapada.htm\" target=\"_blank\">http://www.buddhanet.net/e-learning/buddhism/dhammapada.htm</a></li>\n",
    "<li><b>Automatic Keywords</b>: %s</li>\n",
    "</ul>]]>\n",
    "\"\"\" % (verse, verse_english, video, video, ', '.join(tags))\n",
    "    return template"
   ]
  },
  {
   "cell_type": "code",
   "execution_count": 38,
   "metadata": {},
   "outputs": [],
   "source": [
    "files_sizes = {}\n",
    "with open('file-sizes.json') as f:\n",
    "    files_sizes = json.loads(f.read())\n",
    "    \n",
    "#for v in videos:\n",
    "#    audioUrl = 'https://almedia.blob.core.windows.net/audio/%s.mp3' % v['id']\n",
    "#    \n",
    "#    try:\n",
    "#        files_sizes[v['id']] = int(requests.head(audioUrl).headers['Content-Length'])\n",
    "#    except:\n",
    "#        print('Error', v['id'])\n",
    "#    \n",
    "#    sleep(0.5)\n",
    "#\n",
    "#with open('file-sizes.json', 'w') as f:\n",
    "#    f.write(json.dumps(files_sizes))"
   ]
  },
  {
   "cell_type": "code",
   "execution_count": 39,
   "metadata": {},
   "outputs": [],
   "source": [
    "with open('verses_english.json') as f:\n",
    "    dhp_english = json.loads(f.read())"
   ]
  },
  {
   "cell_type": "code",
   "execution_count": 40,
   "metadata": {},
   "outputs": [],
   "source": [
    "verses_english = []\n",
    "\n",
    "for v in verses:\n",
    "    nums = []\n",
    "    \n",
    "    for line in v.split('\\n'):\n",
    "        temp = line.strip().replace('.', '')\n",
    "\n",
    "        if re.match(r'^[0-9]+$', temp):\n",
    "            nums.append(int(temp))\n",
    "    \n",
    "    translation = ''\n",
    "    \n",
    "    for i in nums:\n",
    "        translation += 'Verse %i:' % i\n",
    "        translation += '\\n\\n'\n",
    "        translation += dhp_english[str(i)]\n",
    "        translation += '\\n\\n'\n",
    "\n",
    "    verses_english.append(translation)"
   ]
  },
  {
   "cell_type": "code",
   "execution_count": 41,
   "metadata": {},
   "outputs": [],
   "source": [
    "items = []\n",
    "\n",
    "for i in range(len(videos)):\n",
    "    episode = len(videos) - i\n",
    "    link = 'https://youtu.be/' + videos[i]['id']\n",
    "    tags = 'None' if not link in keywords else keywords[link]\n",
    "    tags = tags.split(',')[:5]\n",
    "    desc = create_desc(verses[i], verses_english[i], link, tags)\n",
    "    duration = isodate.parse_duration(videos[i]['contentDetails']['duration']).seconds\n",
    "    pubDate = utils.format_datetime(parser.parse(videos[i]['snippet']['publishedAt']))\n",
    "    guid = videos[i]['id']\n",
    "    audioUrl = 'https://almedia.blob.core.windows.net/audio/%s.mp3' % videos[i]['id']\n",
    "    audioType = 'audio/mpeg'\n",
    "    audioFileSize = files_sizes[guid] if guid in files_sizes else 0\n",
    "\n",
    "    items.append({\n",
    "        'episode': episode,\n",
    "        'guid': guid,\n",
    "        'title': videos[i]['snippet']['title'].replace('&', '&amp;'),\n",
    "        'description': desc,\n",
    "        'pubDate': pubDate,\n",
    "        'duration': duration,\n",
    "        'audioUrl': audioUrl,\n",
    "        'audioType': audioType,\n",
    "        'audioFileSize': audioFileSize,\n",
    "        'categories': tags\n",
    "    })"
   ]
  },
  {
   "cell_type": "code",
   "execution_count": 42,
   "metadata": {},
   "outputs": [],
   "source": [
    "with open('dhammapada-items.json', 'w') as f:\n",
    "    f.write(json.dumps(items, indent=2))"
   ]
  },
  {
   "cell_type": "code",
   "execution_count": 27,
   "metadata": {},
   "outputs": [],
   "source": [
    "#pd.DataFrame(items)[['title', 'description', 'audioUrl', 'audioFileSize', 'audioType', 'duration', 'guid', 'pubDateS', 'pubDateHour', 'pubDateMin', 'categories']].to_excel('test123.xlsx')"
   ]
  },
  {
   "cell_type": "code",
   "execution_count": 25,
   "metadata": {},
   "outputs": [],
   "source": [
    "#feed = Feed(\n",
    "#    title = \"Sample RSS Feed\",\n",
    "#    link = \"http://www.example.com/rss\",\n",
    "#    description = \"This is an example of how to use rfeed to generate an RSS 2.0 feed\",\n",
    "#    language = \"en-US\",\n",
    "#    lastBuildDate = datetime.now(),\n",
    "#    items = items,\n",
    "#)\n",
    "#with open('test-feed.xml', 'w') as f:\n",
    "#    f.write(feed.rss())"
   ]
  }
 ],
 "metadata": {
  "kernelspec": {
   "display_name": "Python 3",
   "language": "python",
   "name": "python3"
  },
  "language_info": {
   "codemirror_mode": {
    "name": "ipython",
    "version": 3
   },
   "file_extension": ".py",
   "mimetype": "text/x-python",
   "name": "python",
   "nbconvert_exporter": "python",
   "pygments_lexer": "ipython3",
   "version": "3.7.7"
  }
 },
 "nbformat": 4,
 "nbformat_minor": 2
}
