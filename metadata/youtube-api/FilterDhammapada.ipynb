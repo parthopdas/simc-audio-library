{
 "cells": [
  {
   "cell_type": "code",
   "execution_count": 93,
   "metadata": {},
   "outputs": [],
   "source": [
    "import pandas as pd\n",
    "import json\n",
    "import re\n",
    "import pydash as _"
   ]
  },
  {
   "cell_type": "code",
   "execution_count": 94,
   "metadata": {},
   "outputs": [],
   "source": [
    "with open('./videos_list_yutt.json') as f:\n",
    "    videos_list_yutt = json.loads(f.read())"
   ]
  },
  {
   "cell_type": "code",
   "execution_count": 95,
   "metadata": {},
   "outputs": [],
   "source": [
    "with open('./playlistitems_list_siri.json') as f:\n",
    "    playlistitems_list_siri = json.loads(f.read())"
   ]
  },
  {
   "cell_type": "code",
   "execution_count": 96,
   "metadata": {},
   "outputs": [],
   "source": [
    "with open('./playlists_list_siri.json') as f:\n",
    "    playlists_list_siri = json.loads(f.read())"
   ]
  },
  {
   "cell_type": "code",
   "execution_count": 97,
   "metadata": {},
   "outputs": [],
   "source": [
    "PLAYLIST_DHP_ID = 'PL4j9bs3T1aPTO6JcPdTso6GEPVX38_1qq'"
   ]
  },
  {
   "cell_type": "code",
   "execution_count": 98,
   "metadata": {},
   "outputs": [],
   "source": [
    "playlist_dhp = [x for x in playlists_list_siri if x['id'] == PLAYLIST_DHP_ID][0]"
   ]
  },
  {
   "cell_type": "code",
   "execution_count": 99,
   "metadata": {},
   "outputs": [],
   "source": [
    "videos = [v for v in videos_list_yutt if 'Dhammapada' in v['snippet']['title']]\n",
    "titles = [v['snippet']['title'] for v in videos]"
   ]
  },
  {
   "cell_type": "code",
   "execution_count": 100,
   "metadata": {},
   "outputs": [],
   "source": [
    "numbers = []\n",
    "\n",
    "for title in titles:\n",
    "    m = re.findall(r'([0-9]+)', title)\n",
    "    \n",
    "    if len(m) == 3:\n",
    "        numbers += [int(x) for x in m]\n",
    "    elif len(m) == 2:\n",
    "        numbers += list(range(int(m[0]), int(m[1]) + 1))\n",
    "    elif len(m) == 1:\n",
    "        numbers.append(int(m[0]))"
   ]
  },
  {
   "cell_type": "code",
   "execution_count": 101,
   "metadata": {},
   "outputs": [
    {
     "data": {
      "text/plain": [
       "[2, 3, 4, 5, 6, 7, 8, 9, 10]"
      ]
     },
     "execution_count": 101,
     "metadata": {},
     "output_type": "execute_result"
    }
   ],
   "source": [
    "[x for x in range(1, 224) if not x in numbers] # written numbers missing"
   ]
  },
  {
   "cell_type": "code",
   "execution_count": 102,
   "metadata": {},
   "outputs": [],
   "source": [
    "df = pd.DataFrame([_.pick(v['snippet'], ['title', 'description']) for v in videos])"
   ]
  },
  {
   "cell_type": "code",
   "execution_count": 103,
   "metadata": {},
   "outputs": [],
   "source": [
    "df.to_excel('dhammapada.xlsx')"
   ]
  }
 ],
 "metadata": {
  "kernelspec": {
   "display_name": "Python 3",
   "language": "python",
   "name": "python3"
  },
  "language_info": {
   "codemirror_mode": {
    "name": "ipython",
    "version": 3
   },
   "file_extension": ".py",
   "mimetype": "text/x-python",
   "name": "python",
   "nbconvert_exporter": "python",
   "pygments_lexer": "ipython3",
   "version": "3.7.7"
  }
 },
 "nbformat": 4,
 "nbformat_minor": 2
}
