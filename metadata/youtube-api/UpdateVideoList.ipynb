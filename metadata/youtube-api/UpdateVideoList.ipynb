{
 "cells": [
  {
   "cell_type": "code",
   "execution_count": 1,
   "metadata": {},
   "outputs": [],
   "source": [
    "from time import sleep\n",
    "from os import path\n",
    "import googleapiclient.discovery\n",
    "import json\n",
    "import os"
   ]
  },
  {
   "cell_type": "code",
   "execution_count": 1,
   "metadata": {},
   "outputs": [],
   "source": [
    "CHANNEL_YUTT = 'UCQJ6ESCWQotBwtJm0Ff_gyQ'\n",
    "DEVELOPER_KEY = 'KEY'"
   ]
  },
  {
   "cell_type": "code",
   "execution_count": 3,
   "metadata": {},
   "outputs": [],
   "source": [
    "def yt_search_list(channelId, **kwargs):\n",
    "    # Disable OAuthlib's HTTPS verification when running locally.\n",
    "    # *DO NOT* leave this option enabled in production.\n",
    "    os.environ[\"OAUTHLIB_INSECURE_TRANSPORT\"] = \"1\"\n",
    "\n",
    "    api_service_name = \"youtube\"\n",
    "    api_version = \"v3\"\n",
    "\n",
    "    youtube = googleapiclient.discovery.build(\n",
    "        api_service_name, api_version, developerKey = DEVELOPER_KEY)\n",
    "\n",
    "    request = youtube.search().list(\n",
    "        part=\"snippet\",\n",
    "        channelId=channelId,\n",
    "        order='date',\n",
    "        maxResults=50,\n",
    "        **kwargs\n",
    "    )\n",
    "    response = request.execute()\n",
    "\n",
    "    return response"
   ]
  },
  {
   "cell_type": "code",
   "execution_count": 4,
   "metadata": {},
   "outputs": [],
   "source": [
    "def yt_videos_list(ids):\n",
    "    # Disable OAuthlib's HTTPS verification when running locally.\n",
    "    # *DO NOT* leave this option enabled in production.\n",
    "    os.environ[\"OAUTHLIB_INSECURE_TRANSPORT\"] = \"1\"\n",
    "\n",
    "    api_service_name = \"youtube\"\n",
    "    api_version = \"v3\"\n",
    "\n",
    "    youtube = googleapiclient.discovery.build(\n",
    "        api_service_name, api_version, developerKey = DEVELOPER_KEY)\n",
    "\n",
    "    request = youtube.videos().list(\n",
    "        part=\"snippet,contentDetails,topicDetails,statistics,liveStreamingDetails\",\n",
    "        maxResults=50,\n",
    "        id=ids\n",
    "    )\n",
    "    response = request.execute()\n",
    "    \n",
    "    return response"
   ]
  },
  {
   "cell_type": "code",
   "execution_count": 5,
   "metadata": {},
   "outputs": [],
   "source": [
    "with open('./videos_list_yutt.json') as f:\n",
    "    videos_list_yutt = sorted(json.loads(f.read()), key=lambda x: x['snippet']['publishedAt'], reverse=True)"
   ]
  },
  {
   "cell_type": "code",
   "execution_count": 6,
   "metadata": {},
   "outputs": [],
   "source": [
    "new_videos = yt_search_list(CHANNEL_YUTT, publishedAfter=videos_list_yutt[0]['snippet']['publishedAt'])\n",
    "assert new_videos['pageInfo']['totalResults'] <= 50"
   ]
  },
  {
   "cell_type": "code",
   "execution_count": 7,
   "metadata": {},
   "outputs": [
    {
     "data": {
      "text/plain": [
       "{'kind': 'youtube#searchListResponse',\n",
       " 'etag': 'x7LTqatx8ZVHKB72hs3QSDucdD8',\n",
       " 'regionCode': 'DE',\n",
       " 'pageInfo': {'totalResults': 8, 'resultsPerPage': 50},\n",
       " 'items': [{'kind': 'youtube#searchResult',\n",
       "   'etag': 'wvRSBb5FGowdBQTMuDESN4802lE',\n",
       "   'id': {'kind': 'youtube#video', 'videoId': 'ksYXlf7Nbgw'},\n",
       "   'snippet': {'publishedAt': '2020-07-12T08:20:38Z',\n",
       "    'channelId': 'UCQJ6ESCWQotBwtJm0Ff_gyQ',\n",
       "    'title': 'Meditation Q&amp;A, July 11, 2020',\n",
       "    'description': 'How To Meditate Booklet: https://htm.sirimangalo.org/ To join our meditation community and sign up for an at-home meditation course, please visit ...',\n",
       "    'thumbnails': {'default': {'url': 'https://i.ytimg.com/vi/ksYXlf7Nbgw/default.jpg',\n",
       "      'width': 120,\n",
       "      'height': 90},\n",
       "     'medium': {'url': 'https://i.ytimg.com/vi/ksYXlf7Nbgw/mqdefault.jpg',\n",
       "      'width': 320,\n",
       "      'height': 180},\n",
       "     'high': {'url': 'https://i.ytimg.com/vi/ksYXlf7Nbgw/hqdefault.jpg',\n",
       "      'width': 480,\n",
       "      'height': 360}},\n",
       "    'channelTitle': 'Yuttadhammo Bhikkhu',\n",
       "    'liveBroadcastContent': 'none',\n",
       "    'publishTime': '2020-07-12T08:20:38Z'}},\n",
       "  {'kind': 'youtube#searchResult',\n",
       "   'etag': 'vcOSkGdkDHvyfULkP5lZrbRhvxE',\n",
       "   'id': {'kind': 'youtube#video', 'videoId': 'Jhfq_dx1A00'},\n",
       "   'snippet': {'publishedAt': '2020-07-09T13:06:56Z',\n",
       "    'channelId': 'UCQJ6ESCWQotBwtJm0Ff_gyQ',\n",
       "    'title': 'Meditation Q&amp;A, July 8th, 2020',\n",
       "    'description': 'How To Meditate Booklet: https://htm.sirimangalo.org/ To join our meditation community and sign up for an at-home meditation course, please visit ...',\n",
       "    'thumbnails': {'default': {'url': 'https://i.ytimg.com/vi/Jhfq_dx1A00/default.jpg',\n",
       "      'width': 120,\n",
       "      'height': 90},\n",
       "     'medium': {'url': 'https://i.ytimg.com/vi/Jhfq_dx1A00/mqdefault.jpg',\n",
       "      'width': 320,\n",
       "      'height': 180},\n",
       "     'high': {'url': 'https://i.ytimg.com/vi/Jhfq_dx1A00/hqdefault.jpg',\n",
       "      'width': 480,\n",
       "      'height': 360}},\n",
       "    'channelTitle': 'Yuttadhammo Bhikkhu',\n",
       "    'liveBroadcastContent': 'none',\n",
       "    'publishTime': '2020-07-09T13:06:56Z'}},\n",
       "  {'kind': 'youtube#searchResult',\n",
       "   'etag': 'rP_KGSg8ZkyQt5b17cJ0DJDLq0U',\n",
       "   'id': {'kind': 'youtube#video', 'videoId': 'ZWJVvsNzA8Y'},\n",
       "   'snippet': {'publishedAt': '2020-07-07T05:19:21Z',\n",
       "    'channelId': 'UCQJ6ESCWQotBwtJm0Ff_gyQ',\n",
       "    'title': 'Dhammapada Verses 231 - 234: Guarding the Doors',\n",
       "    'description': 'Part of a series on the Dhammapada, a set of 423 verse teachings given by the Buddha, including explanation of the Pali verse, a synopsis of the background ...',\n",
       "    'thumbnails': {'default': {'url': 'https://i.ytimg.com/vi/ZWJVvsNzA8Y/default.jpg',\n",
       "      'width': 120,\n",
       "      'height': 90},\n",
       "     'medium': {'url': 'https://i.ytimg.com/vi/ZWJVvsNzA8Y/mqdefault.jpg',\n",
       "      'width': 320,\n",
       "      'height': 180},\n",
       "     'high': {'url': 'https://i.ytimg.com/vi/ZWJVvsNzA8Y/hqdefault.jpg',\n",
       "      'width': 480,\n",
       "      'height': 360}},\n",
       "    'channelTitle': 'Yuttadhammo Bhikkhu',\n",
       "    'liveBroadcastContent': 'none',\n",
       "    'publishTime': '2020-07-07T05:19:21Z'}},\n",
       "  {'kind': 'youtube#searchResult',\n",
       "   'etag': 'AKRL1-sqjbtA4B5gbTqjkjDJvmc',\n",
       "   'id': {'kind': 'youtube#video', 'videoId': 'f6X13Ar9Cfw'},\n",
       "   'snippet': {'publishedAt': '2020-07-05T08:07:54Z',\n",
       "    'channelId': 'UCQJ6ESCWQotBwtJm0Ff_gyQ',\n",
       "    'title': 'Meditation Q&amp;A, July 4, 2020',\n",
       "    'description': 'How To Meditate Booklet: https://htm.sirimangalo.org/ To join our meditation community and sign up for an at-home meditation course, please visit ...',\n",
       "    'thumbnails': {'default': {'url': 'https://i.ytimg.com/vi/f6X13Ar9Cfw/default.jpg',\n",
       "      'width': 120,\n",
       "      'height': 90},\n",
       "     'medium': {'url': 'https://i.ytimg.com/vi/f6X13Ar9Cfw/mqdefault.jpg',\n",
       "      'width': 320,\n",
       "      'height': 180},\n",
       "     'high': {'url': 'https://i.ytimg.com/vi/f6X13Ar9Cfw/hqdefault.jpg',\n",
       "      'width': 480,\n",
       "      'height': 360}},\n",
       "    'channelTitle': 'Yuttadhammo Bhikkhu',\n",
       "    'liveBroadcastContent': 'none',\n",
       "    'publishTime': '2020-07-05T08:07:54Z'}},\n",
       "  {'kind': 'youtube#searchResult',\n",
       "   'etag': 'kJmZ9-UDMndV-EBFJ0TutIJmakI',\n",
       "   'id': {'kind': 'youtube#video', 'videoId': 'W6wHkfolnhc'},\n",
       "   'snippet': {'publishedAt': '2020-07-02T13:08:10Z',\n",
       "    'channelId': 'UCQJ6ESCWQotBwtJm0Ff_gyQ',\n",
       "    'title': 'Meditation Q&amp;A, July 1st, 2020',\n",
       "    'description': 'How To Meditate Booklet: https://htm.sirimangalo.org/ To join our meditation community and sign up for an at-home meditation course, please visit ...',\n",
       "    'thumbnails': {'default': {'url': 'https://i.ytimg.com/vi/W6wHkfolnhc/default.jpg',\n",
       "      'width': 120,\n",
       "      'height': 90},\n",
       "     'medium': {'url': 'https://i.ytimg.com/vi/W6wHkfolnhc/mqdefault.jpg',\n",
       "      'width': 320,\n",
       "      'height': 180},\n",
       "     'high': {'url': 'https://i.ytimg.com/vi/W6wHkfolnhc/hqdefault.jpg',\n",
       "      'width': 480,\n",
       "      'height': 360}},\n",
       "    'channelTitle': 'Yuttadhammo Bhikkhu',\n",
       "    'liveBroadcastContent': 'none',\n",
       "    'publishTime': '2020-07-02T13:08:10Z'}},\n",
       "  {'kind': 'youtube#searchResult',\n",
       "   'etag': 'oCpm1ZYj6Xgng4vxIr1IPIyRxsk',\n",
       "   'id': {'kind': 'youtube#video', 'videoId': '-dULR0idhG0'},\n",
       "   'snippet': {'publishedAt': '2020-06-30T04:10:41Z',\n",
       "    'channelId': 'UCQJ6ESCWQotBwtJm0Ff_gyQ',\n",
       "    'title': 'Dhammapada Verse 227 - 230: Blamed',\n",
       "    'description': 'Part of a series on the Dhammapada, a set of 423 verse teachings given by the Buddha, including explanation of the Pali verse, a synopsis of the background ...',\n",
       "    'thumbnails': {'default': {'url': 'https://i.ytimg.com/vi/-dULR0idhG0/default.jpg',\n",
       "      'width': 120,\n",
       "      'height': 90},\n",
       "     'medium': {'url': 'https://i.ytimg.com/vi/-dULR0idhG0/mqdefault.jpg',\n",
       "      'width': 320,\n",
       "      'height': 180},\n",
       "     'high': {'url': 'https://i.ytimg.com/vi/-dULR0idhG0/hqdefault.jpg',\n",
       "      'width': 480,\n",
       "      'height': 360}},\n",
       "    'channelTitle': 'Yuttadhammo Bhikkhu',\n",
       "    'liveBroadcastContent': 'none',\n",
       "    'publishTime': '2020-06-30T04:10:41Z'}},\n",
       "  {'kind': 'youtube#searchResult',\n",
       "   'etag': 'ZXpKrI9U-UrpqueeNKOxEncoNFU',\n",
       "   'id': {'kind': 'youtube#video', 'videoId': 'xBAUrAQhPYY'},\n",
       "   'snippet': {'publishedAt': '2020-06-28T08:13:49Z',\n",
       "    'channelId': 'UCQJ6ESCWQotBwtJm0Ff_gyQ',\n",
       "    'title': 'Meditation Q&amp;A, Jun 27th, 2020',\n",
       "    'description': 'How To Meditate Booklet: https://htm.sirimangalo.org/ To join our meditation community and sign up for an at-home meditation course, please visit ...',\n",
       "    'thumbnails': {'default': {'url': 'https://i.ytimg.com/vi/xBAUrAQhPYY/default.jpg',\n",
       "      'width': 120,\n",
       "      'height': 90},\n",
       "     'medium': {'url': 'https://i.ytimg.com/vi/xBAUrAQhPYY/mqdefault.jpg',\n",
       "      'width': 320,\n",
       "      'height': 180},\n",
       "     'high': {'url': 'https://i.ytimg.com/vi/xBAUrAQhPYY/hqdefault.jpg',\n",
       "      'width': 480,\n",
       "      'height': 360}},\n",
       "    'channelTitle': 'Yuttadhammo Bhikkhu',\n",
       "    'liveBroadcastContent': 'none',\n",
       "    'publishTime': '2020-06-28T08:13:49Z'}},\n",
       "  {'kind': 'youtube#searchResult',\n",
       "   'etag': 'kb7SBN41XfoG0se_3zNu_BatAVI',\n",
       "   'id': {'kind': 'youtube#video', 'videoId': 'wfdF8kVchtk'},\n",
       "   'snippet': {'publishedAt': '2020-06-25T13:05:57Z',\n",
       "    'channelId': 'UCQJ6ESCWQotBwtJm0Ff_gyQ',\n",
       "    'title': 'Meditation Q&amp;A, Jun 24th, 2020',\n",
       "    'description': 'How To Meditate Booklet: https://htm.sirimangalo.org/ To join our meditation community and sign up for an at-home meditation course, please visit ...',\n",
       "    'thumbnails': {'default': {'url': 'https://i.ytimg.com/vi/wfdF8kVchtk/default.jpg',\n",
       "      'width': 120,\n",
       "      'height': 90},\n",
       "     'medium': {'url': 'https://i.ytimg.com/vi/wfdF8kVchtk/mqdefault.jpg',\n",
       "      'width': 320,\n",
       "      'height': 180},\n",
       "     'high': {'url': 'https://i.ytimg.com/vi/wfdF8kVchtk/hqdefault.jpg',\n",
       "      'width': 480,\n",
       "      'height': 360}},\n",
       "    'channelTitle': 'Yuttadhammo Bhikkhu',\n",
       "    'liveBroadcastContent': 'none',\n",
       "    'publishTime': '2020-06-25T13:05:57Z'}}]}"
      ]
     },
     "execution_count": 7,
     "metadata": {},
     "output_type": "execute_result"
    }
   ],
   "source": [
    "new_videos"
   ]
  },
  {
   "cell_type": "code",
   "execution_count": 8,
   "metadata": {},
   "outputs": [],
   "source": [
    "video_ids = set([v['id'] for v in videos_list_yutt if v['kind'] == 'youtube#video'])\n",
    "new_video_ids = [v['id']['videoId'] for v in new_videos['items'] if not (v['id']['kind'] == 'youtube#video' and v['id']['videoId'] in video_ids)]"
   ]
  },
  {
   "cell_type": "code",
   "execution_count": 9,
   "metadata": {},
   "outputs": [
    {
     "data": {
      "text/plain": [
       "['ksYXlf7Nbgw',\n",
       " 'Jhfq_dx1A00',\n",
       " 'ZWJVvsNzA8Y',\n",
       " 'f6X13Ar9Cfw',\n",
       " 'W6wHkfolnhc',\n",
       " '-dULR0idhG0',\n",
       " 'xBAUrAQhPYY']"
      ]
     },
     "execution_count": 9,
     "metadata": {},
     "output_type": "execute_result"
    }
   ],
   "source": [
    "new_video_ids"
   ]
  },
  {
   "cell_type": "code",
   "execution_count": 10,
   "metadata": {},
   "outputs": [],
   "source": [
    "new_video_list = yt_videos_list(','.join(new_video_ids))\n",
    "videos_list_yutt_updated = new_video_list['items'] + videos_list_yutt\n",
    "assert set([v['id'] for v in videos_list_yutt_updated if v['kind'] == 'youtube#video']) == (set(new_video_ids).union(video_ids))"
   ]
  },
  {
   "cell_type": "code",
   "execution_count": 11,
   "metadata": {},
   "outputs": [
    {
     "data": {
      "text/plain": [
       "1722"
      ]
     },
     "execution_count": 11,
     "metadata": {},
     "output_type": "execute_result"
    }
   ],
   "source": [
    "len(videos_list_yutt)"
   ]
  },
  {
   "cell_type": "code",
   "execution_count": 12,
   "metadata": {},
   "outputs": [
    {
     "data": {
      "text/plain": [
       "1729"
      ]
     },
     "execution_count": 12,
     "metadata": {},
     "output_type": "execute_result"
    }
   ],
   "source": [
    "len(videos_list_yutt_updated)"
   ]
  },
  {
   "cell_type": "code",
   "execution_count": 13,
   "metadata": {},
   "outputs": [],
   "source": [
    "with open('./videos_list_yutt.json', 'w') as f:\n",
    "    f.write(json.dumps(videos_list_yutt_updated, indent=2))"
   ]
  },
  {
   "cell_type": "code",
   "execution_count": null,
   "metadata": {},
   "outputs": [],
   "source": []
  }
 ],
 "metadata": {
  "kernelspec": {
   "display_name": "Python 3",
   "language": "python",
   "name": "python3"
  },
  "language_info": {
   "codemirror_mode": {
    "name": "ipython",
    "version": 3
   },
   "file_extension": ".py",
   "mimetype": "text/x-python",
   "name": "python",
   "nbconvert_exporter": "python",
   "pygments_lexer": "ipython3",
   "version": "3.7.7"
  }
 },
 "nbformat": 4,
 "nbformat_minor": 2
}
