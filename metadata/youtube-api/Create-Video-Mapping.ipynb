{
 "cells": [
  {
   "cell_type": "code",
   "execution_count": 61,
   "metadata": {},
   "outputs": [],
   "source": [
    "import json\n",
    "import dateutil"
   ]
  },
  {
   "cell_type": "code",
   "execution_count": 62,
   "metadata": {},
   "outputs": [],
   "source": [
    "# Create a mapping of videos between channels"
   ]
  },
  {
   "cell_type": "code",
   "execution_count": 63,
   "metadata": {},
   "outputs": [],
   "source": [
    "with open('videos_list_siri.json') as f:\n",
    "    videos_list_siri = json.loads(f.read())"
   ]
  },
  {
   "cell_type": "code",
   "execution_count": 64,
   "metadata": {},
   "outputs": [],
   "source": [
    "with open('videos_list_yutt.json') as f:\n",
    "    videos_list_yutt = json.loads(f.read())"
   ]
  },
  {
   "cell_type": "code",
   "execution_count": 65,
   "metadata": {},
   "outputs": [],
   "source": [
    "mapping_manual = {\n",
    "    'e6108Dz6vHw': 'YATsIGQcfp8',\n",
    "    'e4Ua2eDR9k8': 'R-S5w13OjRY',\n",
    "    'RhjR1Fj5HiE': '3xwrFVO7d-I',\n",
    "    'R4yTIFg62Wo': '8XZENpuvGc8',\n",
    "    'W-vbP3RWlFA': 'GmCCqdp1ae4',\n",
    "    'eW8FfJUj824': 'g8j_iIgP6mE',\n",
    "    '87xmlIP9zpg': 'F6VlYzdrS_U', # video length shorter than original\n",
    "    '4P3hspZ6LXM': 'aODw-l_KpW4',\n",
    "    '345xt2D7gXw': 'n7arvhZHXtg', # video length shorter than original\n",
    "    'YUhCwgq8mOg': 'buRcDhcn8Ko'\n",
    "}"
   ]
  },
  {
   "cell_type": "code",
   "execution_count": 66,
   "metadata": {},
   "outputs": [],
   "source": [
    "mapping_duration = []\n",
    "mapping_on_title = []\n",
    "multiple_matches = []\n",
    "unknown_videos = []\n",
    "\n",
    "for item_siri in videos_list_siri:\n",
    "    if item_siri['id'] == 'IvERrjyIMb4':\n",
    "        continue # skip welcome video\n",
    "\n",
    "    if item_siri['id'] in mapping_manual:\n",
    "        continue\n",
    "\n",
    "    dt_siri = dateutil.parser.isoparse(item_siri['snippet']['publishedAt'])\n",
    "    dur_siri = item_siri['contentDetails']['duration']\n",
    "    \n",
    "    candidates = []\n",
    "    for item_yutt in videos_list_yutt:\n",
    "        dt_yutt = dateutil.parser.isoparse(item_yutt['snippet']['publishedAt'])\n",
    "        dur_yutt = item_yutt['contentDetails']['duration']\n",
    "        \n",
    "        if dt_yutt <= dt_siri and dur_yutt == dur_siri:\n",
    "            candidates.append(item_yutt)\n",
    "            \n",
    "    if len(candidates) == 0:\n",
    "        unknown_videos.append(item_siri)\n",
    "    elif len(candidates) == 1:\n",
    "        if candidates[0]['snippet']['title'] == item_siri['snippet']['title']:\n",
    "            mapping_on_title.append([item_siri, candidates[0]])\n",
    "        else:\n",
    "            mapping_duration.append([item_siri, candidates[0]])\n",
    "    elif len(candidates) > 1:\n",
    "        title_match = False\n",
    "        for c in candidates:\n",
    "            if c['snippet']['title'] == item_siri['snippet']['title']:\n",
    "                if title_match:\n",
    "                    raise Error\n",
    "                mapping_on_title.append([item_siri, c])\n",
    "                title_match = True\n",
    "        \n",
    "        if not title_match:\n",
    "            multiple_matches.append([item_siri, candidates])"
   ]
  },
  {
   "cell_type": "code",
   "execution_count": 67,
   "metadata": {},
   "outputs": [
    {
     "data": {
      "text/plain": [
       "17"
      ]
     },
     "execution_count": 67,
     "metadata": {},
     "output_type": "execute_result"
    }
   ],
   "source": [
    "len(mapping_duration)"
   ]
  },
  {
   "cell_type": "code",
   "execution_count": 68,
   "metadata": {},
   "outputs": [
    {
     "name": "stdout",
     "output_type": "stream",
     "text": [
      "0 \t https://youtu.be/RrsTPykeHGw https://youtu.be/VluD7eAbtLM\n",
      "\t Q&A:  Anxiety and Depression Q&A: Anxiety and Depression\n",
      "1 \t https://youtu.be/jyVPJ19lVmw https://youtu.be/KTl2ctFHTQE\n",
      "\t Q&A: Avoidance of Someone Who Betrayed You Q&A: Avoidance\n",
      "2 \t https://youtu.be/FY8f-XDh7ZM https://youtu.be/N3x9BQi9G7E\n",
      "\t Dhammapada 2: Happiness is Mind-made Dhammapada Verse Two: Happiness Follows a Pure Mind\n",
      "3 \t https://youtu.be/QypozUHuBq0 https://youtu.be/i4OWeSHv3NM\n",
      "\t Weekly Q&A | 2018-08-08 Dhamma Q&A, Aug 8, 2018\n",
      "4 \t https://youtu.be/bBn9QRBKxf0 https://youtu.be/Qqkd5Tt7q9g\n",
      "\t Weekly Q&A | 2018-08-01 Questions and Answer, August 1, 2018\n",
      "5 \t https://youtu.be/eQK2z57IVIE https://youtu.be/LnB93-gFnmw\n",
      "\t Weekly Q&A | 2018-07-25 Q&A July 25, 2018\n",
      "6 \t https://youtu.be/4bcB5X_hdmk https://youtu.be/HWkx-wUQuTE\n",
      "\t Weekly Q&A | 2018-07-18 Weekly Q&A, July 18, 2018\n",
      "7 \t https://youtu.be/KTTKAO9FGk0 https://youtu.be/YF3VEqtwmGQ\n",
      "\t Weekly Q&A | 2018-07-11 Q&A July 11, 2018\n",
      "8 \t https://youtu.be/0BpY84HcmMQ https://youtu.be/sgE_KjiqZS0\n",
      "\t Weekly Q&A | 2018-06-27 June 27, 2018 Q&A\n",
      "9 \t https://youtu.be/-0TsKZ08AVg https://youtu.be/n7arvhZHXtg\n",
      "\t Weekly Q&A | 2018-06-20 Evening Dhamma Q&A\n",
      "10 \t https://youtu.be/pbAysj0C_H8 https://youtu.be/Y4v9bbKhcxs\n",
      "\t Weekly Q&A | 2018-05-31 Evening Dhamma Q&A\n",
      "11 \t https://youtu.be/YA-4CFYzsOk https://youtu.be/sNQrRmBN01A\n",
      "\t Weekly Q&A | 2018-05-24 Evening Dhamma Q&A\n",
      "12 \t https://youtu.be/-RS9WVGJcC0 https://youtu.be/FpwI4VpItzY\n",
      "\t Weekly Q&A | 2018-05-17 Evening Dhamma Q&A\n",
      "13 \t https://youtu.be/uDBQPHepHBY https://youtu.be/BTau_J1bt6k\n",
      "\t Weekly Q&A | 2018-05-02 Evening Dhamma Q&A\n",
      "14 \t https://youtu.be/34hpfxt71D8 https://youtu.be/BYUSi5GPxeY\n",
      "\t Weekly Q&A | 2018-04-11 Evening Dhamma Q&A\n",
      "15 \t https://youtu.be/S-N-hZGEs7s https://youtu.be/H0vlMOx-i2U\n",
      "\t Knowledge and Vision of Enlightened Beings | Chabbisodhana Sutta (MN 112) Knowledge and Vision of Enlightened Beings - Chabbisodhana Sutta (MN 112)\n",
      "16 \t https://youtu.be/nHnXTFSWY28 https://youtu.be/MSudDsWJhzs\n",
      "\t Weekly Q&A | 2018-04-04 Evening Dhamma Q&A\n"
     ]
    }
   ],
   "source": [
    "# print duration mapping for manual check\n",
    "for i, (x,y) in enumerate(mapping_duration):\n",
    "    print(i, '\\t', 'https://youtu.be/' + x['id'], 'https://youtu.be/' + y['id'])   \n",
    "    print('\\t', x['snippet']['title'], y['snippet']['title'])"
   ]
  },
  {
   "cell_type": "code",
   "execution_count": 69,
   "metadata": {},
   "outputs": [
    {
     "data": {
      "text/plain": [
       "[{'kind': 'youtube#video',\n",
       "  'etag': 'HGRsIrwRyTLqB5wUq_341YdBIT0',\n",
       "  'id': '24TeXXsi75Q',\n",
       "  'snippet': {'publishedAt': '2018-04-14T13:46:29Z',\n",
       "   'channelId': 'UCFVuMJgj2QWlg-6JZ1ye9qA',\n",
       "   'title': 'Full Moon Q&A | Mahāpuṇṇama Sutta (MN 109)',\n",
       "   'description': 'Mahāpuṇṇama Sutta (MN 109) - The Great Full-moon Night Discourse can be found here: http://obo.genaud.net/dhamma-vinaya/ati/mn/mn.109.than.ati.htm\\n \\nTo ask questions and join our community, please visit http://meditation.sirimangalo.org/\\nTo support our work, please visit http://www.sirimangalo.org/support/\\n\\nRe-upload of dhammatalk from March 31, 2018.\\n\\n.',\n",
       "   'thumbnails': {'default': {'url': 'https://i.ytimg.com/vi/24TeXXsi75Q/default.jpg',\n",
       "     'width': 120,\n",
       "     'height': 90},\n",
       "    'medium': {'url': 'https://i.ytimg.com/vi/24TeXXsi75Q/mqdefault.jpg',\n",
       "     'width': 320,\n",
       "     'height': 180},\n",
       "    'high': {'url': 'https://i.ytimg.com/vi/24TeXXsi75Q/hqdefault.jpg',\n",
       "     'width': 480,\n",
       "     'height': 360}},\n",
       "   'channelTitle': 'Sirimangalo International',\n",
       "   'tags': ['Yuttadhammo',\n",
       "    'Sirimangalo',\n",
       "    'Theravada',\n",
       "    'Majjhima Nikāya',\n",
       "    'suttastudies',\n",
       "    'suttas',\n",
       "    'dhammatalks'],\n",
       "   'categoryId': '27',\n",
       "   'liveBroadcastContent': 'none',\n",
       "   'localized': {'title': 'Full Moon Q&A | Mahāpuṇṇama Sutta (MN 109)',\n",
       "    'description': 'Mahāpuṇṇama Sutta (MN 109) - The Great Full-moon Night Discourse can be found here: http://obo.genaud.net/dhamma-vinaya/ati/mn/mn.109.than.ati.htm\\n \\nTo ask questions and join our community, please visit http://meditation.sirimangalo.org/\\nTo support our work, please visit http://www.sirimangalo.org/support/\\n\\nRe-upload of dhammatalk from March 31, 2018.\\n\\n.'},\n",
       "   'defaultAudioLanguage': 'en'},\n",
       "  'contentDetails': {'duration': 'PT52M3S',\n",
       "   'dimension': '2d',\n",
       "   'definition': 'sd',\n",
       "   'caption': 'false',\n",
       "   'licensedContent': False,\n",
       "   'contentRating': {},\n",
       "   'projection': 'rectangular'},\n",
       "  'statistics': {'viewCount': '53',\n",
       "   'favoriteCount': '0',\n",
       "   'commentCount': '0'}}]"
      ]
     },
     "execution_count": 69,
     "metadata": {},
     "output_type": "execute_result"
    }
   ],
   "source": [
    "unknown_videos"
   ]
  },
  {
   "cell_type": "code",
   "execution_count": 70,
   "metadata": {},
   "outputs": [],
   "source": [
    "mapping = mapping_manual.copy()\n",
    "\n",
    "for item_siri, item_yutt in mapping_duration:\n",
    "    assert item_siri['id'] not in mapping\n",
    "    mapping[item_siri['id']] = item_yutt['id']\n",
    "\n",
    "for item_siri, item_yutt in mapping_on_title:\n",
    "    assert item_siri['id'] not in mapping\n",
    "    mapping[item_siri['id']] = item_yutt['id']"
   ]
  },
  {
   "cell_type": "code",
   "execution_count": 71,
   "metadata": {},
   "outputs": [
    {
     "data": {
      "text/plain": [
       "111"
      ]
     },
     "execution_count": 71,
     "metadata": {},
     "output_type": "execute_result"
    }
   ],
   "source": [
    "len(mapping)"
   ]
  },
  {
   "cell_type": "code",
   "execution_count": 72,
   "metadata": {},
   "outputs": [],
   "source": [
    "with open('mapping_videos.json', 'w') as f:\n",
    "    f.write(json.dumps(mapping))"
   ]
  }
 ],
 "metadata": {
  "kernelspec": {
   "display_name": "Python 3",
   "language": "python",
   "name": "python3"
  },
  "language_info": {
   "codemirror_mode": {
    "name": "ipython",
    "version": 3
   },
   "file_extension": ".py",
   "mimetype": "text/x-python",
   "name": "python",
   "nbconvert_exporter": "python",
   "pygments_lexer": "ipython3",
   "version": "3.7.7"
  }
 },
 "nbformat": 4,
 "nbformat_minor": 2
}
