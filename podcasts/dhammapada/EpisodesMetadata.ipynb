{
 "cells": [
  {
   "cell_type": "code",
   "execution_count": 63,
   "metadata": {},
   "outputs": [],
   "source": [
    "import pandas as pd\n",
    "import json\n",
    "import re\n",
    "import isodate\n",
    "import requests\n",
    "from time import sleep\n",
    "from dateutil import parser\n",
    "from email import utils\n",
    "from datetime import datetime\n",
    "from rfeed import Item, Feed, iTunesItem, Guid, Enclosure"
   ]
  },
  {
   "cell_type": "code",
   "execution_count": 64,
   "metadata": {},
   "outputs": [],
   "source": [
    "with open('../../metadata/youtube-api/videos_list_yutt.json') as f:\n",
    "    videos_list_yutt = json.loads(f.read())"
   ]
  },
  {
   "cell_type": "code",
   "execution_count": 65,
   "metadata": {},
   "outputs": [],
   "source": [
    "videos = [v for v in videos_list_yutt if 'Dhammapada' in v['snippet']['title']]\n",
    "titles = [v['snippet']['title'] for v in videos]"
   ]
  },
  {
   "cell_type": "code",
   "execution_count": 66,
   "metadata": {},
   "outputs": [],
   "source": [
    "numbers = []\n",
    "mapping = {}\n",
    "\n",
    "for i, title in enumerate(titles):\n",
    "    m = re.findall(r'([0-9]+)', title)\n",
    "    \n",
    "    new_numbers = []\n",
    "    if len(m) == 3:\n",
    "        new_numbers = [int(x) for x in m]\n",
    "    elif len(m) == 2:\n",
    "        new_numbers = list(range(int(m[0]), int(m[1]) + 1))\n",
    "    elif len(m) == 1:\n",
    "        new_numbers = [int(m[0])]\n",
    "    \n",
    "    numbers += new_numbers\n",
    "    \n",
    "    for n in new_numbers:\n",
    "        mapping[n] = videos[i]"
   ]
  },
  {
   "cell_type": "code",
   "execution_count": 67,
   "metadata": {},
   "outputs": [
    {
     "data": {
      "text/plain": [
       "[2, 3, 4, 5, 6, 7, 8, 9, 10]"
      ]
     },
     "execution_count": 67,
     "metadata": {},
     "output_type": "execute_result"
    }
   ],
   "source": [
    "[x for x in range(1, 224) if not x in numbers] # written numbers missing"
   ]
  },
  {
   "cell_type": "code",
   "execution_count": 68,
   "metadata": {},
   "outputs": [],
   "source": [
    "with open('verses.txt') as f:\n",
    "    verses = f.read().split('\\n---\\n')"
   ]
  },
  {
   "cell_type": "code",
   "execution_count": 69,
   "metadata": {},
   "outputs": [],
   "source": [
    "exceptions = [207, 210, 198, 189, 190, 191, 184, 138, 139, 88, 10, 9, 8, 7, 6, 5, 4, 3, 2]\n",
    "\n",
    "for verse in verses:\n",
    "    for num in [int(n) for n in re.findall(r'[0-9]+', verse)]:\n",
    "        assert (num in exceptions or str(num) in mapping[num]['snippet']['title'])\n",
    "        \n",
    "last_nums = [224]\n",
    "for i, verse in enumerate(verses):\n",
    "    nums = sorted([int(n) for n in re.findall(r'[0-9]+', verse)])\n",
    "    for num in nums:\n",
    "        assert (num in exceptions or str(num) in videos[i]['snippet']['title'])\n",
    "    \n",
    "    if (set(nums) - set(exceptions)) != set():\n",
    "        # check order\n",
    "        assert nums[0] < last_nums[0]\n",
    "    \n",
    "    last_nums = nums"
   ]
  },
  {
   "cell_type": "code",
   "execution_count": 70,
   "metadata": {},
   "outputs": [],
   "source": [
    "df = pd.read_json('../../metadata/subtitles/top_keywords_from_subtitles.json')\n",
    "keywords = { row.link: row.keywords for row in df.itertuples() }"
   ]
  },
  {
   "cell_type": "code",
   "execution_count": 71,
   "metadata": {},
   "outputs": [],
   "source": [
    "def create_desc(verse, video, tags):\n",
    "    template = \"\"\"%s\n",
    "\n",
    "Part of a series on the Dhammapada, a set of 423 verse teachings given by the Buddha, including explanation of the Pali verse, a synopsis of the background story and application of the teaching to our practice.\n",
    "\n",
    "Original YouTube-Video: <![CDATA[<a href=\"%s\" target=\"_blank\">%s</a>]]>\n",
    "For more information on the Dhammapada: <![CDATA[<a href=\"http://www.buddhanet.net/e-learning/buddhism/dhammapada.htm\" target=\"_blank\">http://www.buddhanet.net/e-learning/buddhism/dhammapada.htm</a>]]>\n",
    "Automatic Keywords: %s\n",
    "\"\"\" % (verse, video, video, tags)\n",
    "    return template"
   ]
  },
  {
   "cell_type": "code",
   "execution_count": 72,
   "metadata": {},
   "outputs": [],
   "source": [
    "#files_sizes = {}\n",
    "    \n",
    "#for v in videos:\n",
    "#    audioUrl = 'https://almedia.blob.core.windows.net/audio/%s.mp3' % v['id']\n",
    "#    \n",
    "#    try:\n",
    "#        fileSizes[v['id']] = int(requests.head(audioUrl).headers['Content-Length'])\n",
    "#    except:\n",
    "#        print('Error', v['id'])\n",
    "#    \n",
    "#    sleep(0.5)\n",
    "\n",
    "#with open('file-sizes.json', 'w') as f:\n",
    "#    f.write(json.dumps(files_sizes))"
   ]
  },
  {
   "cell_type": "code",
   "execution_count": 73,
   "metadata": {},
   "outputs": [],
   "source": [
    "items = []\n",
    "\n",
    "for i in range(len(videos)):\n",
    "    episode = len(videos) - i\n",
    "    link = 'https://youtu.be/' + videos[i]['id']\n",
    "    tags = 'None' if not link in keywords else keywords[link]\n",
    "    tags = ', '.join(tags.split(',')[:5])\n",
    "    desc = create_desc(verses[i], link, tags)\n",
    "    duration = isodate.parse_duration(videos[i]['contentDetails']['duration']).seconds\n",
    "    pubDate = utils.format_datetime(parser.parse(videos[i]['snippet']['publishedAt']))\n",
    "    guid = videos[i]['id']\n",
    "    audioUrl = 'https://almedia.blob.core.windows.net/audio/%s.mp3' % videos[i]['id']\n",
    "    audioType = 'audio/mpeg'\n",
    "    audioFileSize = fileSizes[guid] if guid in fileSizes else 0\n",
    "\n",
    "    items.append({\n",
    "        'episode': episode,\n",
    "        'guid': guid,\n",
    "        'title': videos[i]['snippet']['title'],\n",
    "        'description': desc,\n",
    "        'pubDate': pubDate,\n",
    "        'duration': duration,\n",
    "        'audioUrl': audioUrl,\n",
    "        'audioType': audioType,\n",
    "        'audioFileSize': audioFileSize\n",
    "    })"
   ]
  },
  {
   "cell_type": "code",
   "execution_count": 74,
   "metadata": {},
   "outputs": [],
   "source": [
    "with open('dhammapada-items.json', 'w') as f:\n",
    "    f.write(json.dumps(items, indent=2))"
   ]
  },
  {
   "cell_type": "code",
   "execution_count": 49,
   "metadata": {},
   "outputs": [],
   "source": [
    "#feed = Feed(\n",
    "#    title = \"Sample RSS Feed\",\n",
    "#    link = \"http://www.example.com/rss\",\n",
    "#    description = \"This is an example of how to use rfeed to generate an RSS 2.0 feed\",\n",
    "#    language = \"en-US\",\n",
    "#    lastBuildDate = datetime.now(),\n",
    "#    items = items,\n",
    "#)\n",
    "#with open('test-feed.xml', 'w') as f:\n",
    "#    f.write(feed.rss())"
   ]
  }
 ],
 "metadata": {
  "kernelspec": {
   "display_name": "Python 3",
   "language": "python",
   "name": "python3"
  },
  "language_info": {
   "codemirror_mode": {
    "name": "ipython",
    "version": 3
   },
   "file_extension": ".py",
   "mimetype": "text/x-python",
   "name": "python",
   "nbconvert_exporter": "python",
   "pygments_lexer": "ipython3",
   "version": "3.7.7"
  }
 },
 "nbformat": 4,
 "nbformat_minor": 2
}
